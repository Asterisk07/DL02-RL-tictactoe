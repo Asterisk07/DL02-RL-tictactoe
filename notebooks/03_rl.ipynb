{
 "cells": [
  {
   "cell_type": "code",
   "execution_count": null,
   "metadata": {},
   "outputs": [],
   "source": []
  },
  {
   "cell_type": "markdown",
   "metadata": {},
   "source": [
    "## supress print"
   ]
  },
  {
   "cell_type": "code",
   "execution_count": 1,
   "metadata": {},
   "outputs": [],
   "source": [
    "import builtins\n",
    "\n",
    "# Step 1: Store the original print function\n",
    "original_print = builtins.print\n",
    "\n",
    "def suppress_print():\n",
    "    \"\"\"Temporarily suppress print statements.\"\"\"\n",
    "    builtins.print = lambda *args, **kwargs: None  # Override print with a no-op\n",
    "\n",
    "def restore_print():\n",
    "    \"\"\"Restore the original print function.\"\"\"\n",
    "    builtins.print = original_print  # Restore to the saved original print function\n",
    "\n"
   ]
  },
  {
   "cell_type": "code",
   "execution_count": 2,
   "metadata": {},
   "outputs": [],
   "source": [
    "import ultraimport"
   ]
  },
  {
   "cell_type": "code",
   "execution_count": 3,
   "metadata": {},
   "outputs": [
    {
     "data": {
      "text/plain": [
       "'c:\\\\Users\\\\pande\\\\OneDrive\\\\Documents\\\\code\\\\DL\\\\DL self mini projects\\\\DL02-RL-tictactoe\\\\notebooks'"
      ]
     },
     "execution_count": 3,
     "metadata": {},
     "output_type": "execute_result"
    }
   ],
   "source": [
    "import os\n",
    "os.getcwd()"
   ]
  },
  {
   "cell_type": "code",
   "execution_count": 4,
   "metadata": {},
   "outputs": [
    {
     "data": {
      "text/plain": [
       "{'N': 3,\n",
       " 'board': array([0, 0, 0, 0, 0, 0, 0, 0, 0]),\n",
       " 'check_winner': <function helper.check_winner(board)>,\n",
       " 'find_winning_move': <function helper.find_winning_move(board, available_moves, player_number)>,\n",
       " 'get_available_moves': <function helper.get_available_moves(board)>,\n",
       " 'i': 2,\n",
       " 'initialize_board': <function helper.initialize_board()>,\n",
       " 'is_board_full': <function helper.is_board_full(board)>,\n",
       " 'isvacant': <function helper.isvacant(board, position)>,\n",
       " 'j': 2,\n",
       " 'make_move': <function helper.make_move(board, position, player)>,\n",
       " 'np': <module 'numpy' from 'c:\\\\Users\\\\pande\\\\AppData\\\\Local\\\\Programs\\\\Python\\\\Python311\\\\Lib\\\\site-packages\\\\numpy\\\\__init__.py'>,\n",
       " 'play_game': <function helper.play_game(agent1=None, agent2=None)>,\n",
       " 'print_board': <function helper.print_board(board)>,\n",
       " 'random': <module 'random' from 'c:\\\\Users\\\\pande\\\\AppData\\\\Local\\\\Programs\\\\Python\\\\Python311\\\\Lib\\\\random.py'>,\n",
       " 'random_move': <function helper.random_move(board, available_moves)>,\n",
       " 'reset_board': <function helper.reset_board(board)>,\n",
       " 'ultraimport': <module 'ultraimport.ultraimport' from 'c:\\\\Users\\\\pande\\\\AppData\\\\Local\\\\Programs\\\\Python\\\\Python311\\\\Lib\\\\site-packages\\\\ultraimport\\\\ultraimport.py'>,\n",
       " 'unmove': <function helper.unmove(board, position, player=None)>,\n",
       " 'winning_combinations': [[0, 1, 2],\n",
       "  [3, 4, 5],\n",
       "  [6, 7, 8],\n",
       "  [0, 3, 6],\n",
       "  [1, 4, 7],\n",
       "  [2, 5, 8],\n",
       "  [0, 4, 8],\n",
       "  [2, 4, 6]]}"
      ]
     },
     "execution_count": 4,
     "metadata": {},
     "output_type": "execute_result"
    }
   ],
   "source": [
    "ultraimport('../scripts/helper.py','*', add_to_ns=globals())"
   ]
  },
  {
   "cell_type": "code",
   "execution_count": 5,
   "metadata": {},
   "outputs": [
    {
     "data": {
      "text/plain": [
       "{'Agent': baselines.Agent,\n",
       " 'N': 3,\n",
       " 'SELF_GAMES': False,\n",
       " 'VERBOSE': False,\n",
       " 'board': array([1, 1, 2, 0, 0, 2, 0, 0, 0]),\n",
       " 'builtins': <module 'builtins' (built-in)>,\n",
       " 'check_winner': <function helper.check_winner(board)>,\n",
       " 'find_winning_move': <function helper.find_winning_move(board, available_moves, player_number)>,\n",
       " 'get_available_moves': <function helper.get_available_moves(board)>,\n",
       " 'heuristic_center_control': <function baselines.heuristic_center_control(board)>,\n",
       " 'heuristic_one_move_win': <function baselines.heuristic_one_move_win(board)>,\n",
       " 'heuristic_two_move_win': <function baselines.heuristic_two_move_win(board)>,\n",
       " 'i': 2,\n",
       " 'initialize_board': <function helper.initialize_board()>,\n",
       " 'is_board_full': <function helper.is_board_full(board)>,\n",
       " 'isvacant': <function helper.isvacant(board, position)>,\n",
       " 'j': 2,\n",
       " 'make_move': <function helper.make_move(board, position, player)>,\n",
       " 'minimax': <function baselines.minimax(board, depth, alpha, beta, player_number, eval_strat=None)>,\n",
       " 'minimax_score': <function baselines.minimax_score(board, eval_strat=None)>,\n",
       " 'np': <module 'numpy' from 'c:\\\\Users\\\\pande\\\\AppData\\\\Local\\\\Programs\\\\Python\\\\Python311\\\\Lib\\\\site-packages\\\\numpy\\\\__init__.py'>,\n",
       " 'original_print': <function print(*args, sep=' ', end='\\n', file=None, flush=False)>,\n",
       " 'os': <module 'os' (frozen)>,\n",
       " 'play_game': <function helper.play_game(agent1=None, agent2=None)>,\n",
       " 'print_board': <function helper.print_board(board)>,\n",
       " 'random': <module 'random' from 'c:\\\\Users\\\\pande\\\\AppData\\\\Local\\\\Programs\\\\Python\\\\Python311\\\\Lib\\\\random.py'>,\n",
       " 'random_move': <function helper.random_move(board, available_moves)>,\n",
       " 'reset_board': <function helper.reset_board(board)>,\n",
       " 'restore_print': <function baselines.restore_print()>,\n",
       " 'round_robin_tournament': <function baselines.round_robin_tournament(strategies, rounds=1, agents=None, verbose=True, self_games=True, tqdm_flag=True, random_seed=42)>,\n",
       " 'rounds': 1,\n",
       " 'select_center_corner_edge_move': <function baselines.select_center_corner_edge_move(board)>,\n",
       " 'single_match': <function baselines.single_match(strategy1, strategy2, agent1=None, agent2=None)>,\n",
       " 'strategies': ['random',\n",
       "  'greedy',\n",
       "  'block',\n",
       "  'center_corner',\n",
       "  'greedy_center',\n",
       "  'minmax one_move 1',\n",
       "  'minmax one_move 2',\n",
       "  'minmax one_move 3',\n",
       "  'minmax one_move 4',\n",
       "  'minmax one_move 4',\n",
       "  'minmax one_move 5',\n",
       "  'minmax one_move 6',\n",
       "  'minmax one_move 7',\n",
       "  'minmax'],\n",
       " 'suppress_print': <function baselines.suppress_print()>,\n",
       " 'sys': <module 'sys' (built-in)>,\n",
       " 'tqdm': tqdm.std.tqdm,\n",
       " 'ultraimport': <module 'ultraimport.ultraimport' from 'c:\\\\Users\\\\pande\\\\AppData\\\\Local\\\\Programs\\\\Python\\\\Python311\\\\Lib\\\\site-packages\\\\ultraimport\\\\ultraimport.py'>,\n",
       " 'unmove': <function helper.unmove(board, position, player=None)>,\n",
       " 'winning_combinations': [[0, 1, 2],\n",
       "  [3, 4, 5],\n",
       "  [6, 7, 8],\n",
       "  [0, 3, 6],\n",
       "  [1, 4, 7],\n",
       "  [2, 5, 8],\n",
       "  [0, 4, 8],\n",
       "  [2, 4, 6]],\n",
       " 'winning_lines': <function baselines.winning_lines(board)>}"
      ]
     },
     "execution_count": 5,
     "metadata": {},
     "output_type": "execute_result"
    }
   ],
   "source": [
    "ultraimport('../scripts/baselines.py','*', add_to_ns=globals())"
   ]
  },
  {
   "cell_type": "markdown",
   "metadata": {},
   "source": [
    "# RL"
   ]
  },
  {
   "cell_type": "markdown",
   "metadata": {},
   "source": [
    "## Q Learning"
   ]
  },
  {
   "cell_type": "code",
   "execution_count": 347,
   "metadata": {},
   "outputs": [],
   "source": [
    "class QLearningAgent:\n",
    "    def __init__(self, player_number, alpha=0.1, gamma=0.9, epsilon=0.2):\n",
    "        self.player_number = player_number\n",
    "        self.q_table = {}  # Maps state -> action -> value\n",
    "        self.alpha = alpha  # Learning rate\n",
    "        self.gamma = gamma  # Discount factor\n",
    "        self.epsilon = epsilon  # Exploration rate\n",
    "        self.trainable = False\n",
    "\n",
    "    def state_representation(self, board):\n",
    "        # Example: converting the board to a tuple or string for hashability\n",
    "        # return tuple(board)  \n",
    "        return ( self.player_number, tuple(board.copy()),)  \n",
    "\n",
    "    def best_move(self, state, available_moves):\n",
    "        if state not in self.q_table:\n",
    "            return random.choice(available_moves)  # Explore if no knowledge\n",
    "        action_values = self.q_table[state]\n",
    "        best_action = max(action_values, key=action_values.get) #compare on values not keys\n",
    "        return best_action\n",
    "\n",
    "\n",
    "    def select_move(self, board, available_moves):\n",
    "        state = self.state_representation(board)\n",
    "        if random.random() < self.epsilon:  # Explore\n",
    "            return random.choice(available_moves)\n",
    "        else:  # Exploit\n",
    "            return self.best_move(state, available_moves)\n",
    "\n",
    "    def update_q_value(self, state, action, reward, next_state):\n",
    "        # print(f'current state : {state} | action : {action}')\n",
    "        if state not in self.q_table:\n",
    "            self.q_table[state] = {action: 0}  # Initialize Q-value if state not found\n",
    "\n",
    "        if action not in self.q_table[state]:\n",
    "            self.q_table[state][action] = 0\n",
    "        # Use the Q-learning update rule\n",
    "        best_future_q = max(self.q_table.get(next_state, {}).values(), default=0)\n",
    "        # print(f'current state : {self.q_table[state]} | action : {action}')\n",
    "        current_q = self.q_table[state][action]\n",
    "        self.q_table[state][action] = current_q + self.alpha * (reward + self.gamma * best_future_q - current_q)\n",
    "\n",
    "    \n",
    "    # Add more helper methods for updating the Q-table during training\n"
   ]
  },
  {
   "cell_type": "code",
   "execution_count": 7,
   "metadata": {},
   "outputs": [
    {
     "name": "stdout",
     "output_type": "stream",
     "text": [
      "move_3\n"
     ]
    }
   ],
   "source": [
    "# example\n",
    "action_values = {\n",
    "    'move_1': 0.5,\n",
    "    'move_2': 0.7,\n",
    "    'move_3': 0.9\n",
    "}\n",
    "best_action = max(action_values, key=action_values.get)\n",
    "print(best_action)  # Output: 'move_3'\n"
   ]
  },
  {
   "cell_type": "code",
   "execution_count": 8,
   "metadata": {},
   "outputs": [],
   "source": [
    "# Initialize the agents\n",
    "agent1 = QLearningAgent(player_number=1, alpha=0.1, gamma=0.9, epsilon=0.2)\n",
    "\n",
    "# If you want to enable training for the agents, set trainable to True\n",
    "agent1.trainable = True\n"
   ]
  },
  {
   "cell_type": "code",
   "execution_count": 9,
   "metadata": {},
   "outputs": [
    {
     "name": "stdout",
     "output_type": "stream",
     "text": [
      "\n",
      " | | \n",
      "-----\n",
      " | | \n",
      "-----\n",
      " | | \n",
      "-----\n",
      "Available moves: [0, 1, 2, 3, 4, 5, 6, 7, 8]\n",
      "Bot (X) selects move: 5\n",
      "\n",
      " | | \n",
      "-----\n",
      " | |X\n",
      "-----\n",
      " | | \n",
      "-----\n",
      "Available moves: [0, 1, 2, 3, 4, 6, 7, 8]\n",
      "Bot (O) selects move: 8\n",
      "\n",
      " | | \n",
      "-----\n",
      " | |X\n",
      "-----\n",
      " | |O\n",
      "-----\n",
      "Available moves: [0, 1, 2, 3, 4, 6, 7]\n",
      "Bot (X) selects move: 4\n",
      "\n",
      " | | \n",
      "-----\n",
      " |X|X\n",
      "-----\n",
      " | |O\n",
      "-----\n",
      "Available moves: [0, 1, 2, 3, 6, 7]\n",
      "Bot (O) selects move: 7\n",
      "\n",
      " | | \n",
      "-----\n",
      " |X|X\n",
      "-----\n",
      " |O|O\n",
      "-----\n",
      "Available moves: [0, 1, 2, 3, 6]\n",
      "Bot (X) selects move: 1\n",
      "\n",
      " |X| \n",
      "-----\n",
      " |X|X\n",
      "-----\n",
      " |O|O\n",
      "-----\n",
      "Available moves: [0, 2, 3, 6]\n",
      "Bot (O) selects move: 3\n",
      "\n",
      " |X| \n",
      "-----\n",
      "O|X|X\n",
      "-----\n",
      " |O|O\n",
      "-----\n",
      "Available moves: [0, 2, 6]\n",
      "Bot (X) selects move: 0\n",
      "\n",
      "X|X| \n",
      "-----\n",
      "O|X|X\n",
      "-----\n",
      " |O|O\n",
      "-----\n",
      "Available moves: [2, 6]\n",
      "Bot (O) selects move: 6\n",
      "X|X| \n",
      "-----\n",
      "O|X|X\n",
      "-----\n",
      "O|O|O\n",
      "-----\n",
      "Player 2 wins!\n"
     ]
    }
   ],
   "source": [
    "single_match(None, 'random', agent1)"
   ]
  },
  {
   "cell_type": "code",
   "execution_count": 10,
   "metadata": {},
   "outputs": [],
   "source": [
    "rand_agent = Agent(2)\n"
   ]
  },
  {
   "cell_type": "code",
   "execution_count": 11,
   "metadata": {},
   "outputs": [
    {
     "data": {
      "text/plain": [
       "<function baselines.restore_print()>"
      ]
     },
     "execution_count": 11,
     "metadata": {},
     "output_type": "execute_result"
    }
   ],
   "source": [
    "suppress_print\n",
    "restore_print"
   ]
  },
  {
   "cell_type": "code",
   "execution_count": 36,
   "metadata": {},
   "outputs": [
    {
     "name": "stderr",
     "output_type": "stream",
     "text": [
      "Playing matches: 100%|██████████| 8/8 [00:00<00:00, 1805.17it/s]\n"
     ]
    },
    {
     "name": "stdout",
     "output_type": "stream",
     "text": [
      "vs random {'wins': 2, 'losses': 6, 'draws': 0}\n"
     ]
    },
    {
     "name": "stderr",
     "output_type": "stream",
     "text": [
      "Playing matches: 100%|██████████| 8/8 [00:00<?, ?it/s]\n"
     ]
    },
    {
     "name": "stdout",
     "output_type": "stream",
     "text": [
      "vs greedy {'wins': 4, 'losses': 2, 'draws': 2}\n"
     ]
    },
    {
     "name": "stderr",
     "output_type": "stream",
     "text": [
      "Playing matches: 100%|██████████| 8/8 [00:00<?, ?it/s]\n"
     ]
    },
    {
     "name": "stdout",
     "output_type": "stream",
     "text": [
      "vs block {'wins': 2, 'losses': 4, 'draws': 2}\n"
     ]
    },
    {
     "name": "stderr",
     "output_type": "stream",
     "text": [
      "Playing matches: 100%|██████████| 8/8 [00:00<?, ?it/s]"
     ]
    },
    {
     "name": "stdout",
     "output_type": "stream",
     "text": [
      "vs center_corner {'wins': 3, 'losses': 3, 'draws': 2}\n"
     ]
    },
    {
     "name": "stderr",
     "output_type": "stream",
     "text": [
      "\n"
     ]
    }
   ],
   "source": [
    "# Example usage\n",
    "strategies = ['random', 'greedy', 'block', 'center_corner']\n",
    "for opponent_name in strategies:\n",
    "    # opponent_name = 'random'\n",
    "    model_name = f'vs {opponent_name}'\n",
    "    strategies = [opponent_name,model_name]\n",
    "    agents = [agent1, rand_agent]\n",
    "    # strategies = ['random', 'greedy', 'block', 'center', 'corner', 'edge', 'alpha-beta']\n",
    "    rounds = 4\n",
    "    VERBOSE = False\n",
    "    SELF_GAMES = False\n",
    "    suppress_print()\n",
    "    tournament_results, win_grid = round_robin_tournament(strategies, rounds, agents = agents, verbose= VERBOSE, self_games = SELF_GAMES, random_seed = None)\n",
    "    restore_print()\n",
    "    print(model_name, tournament_results[model_name])\n",
    "# # Display results\n",
    "# print()\n",
    "\n",
    "# for strategy, result in tournament_results.items():\n",
    "#     print(f\"{strategy}: Wins: {result['wins']}, Losses: {result['losses']}, Draws: {result['draws']}\")"
   ]
  },
  {
   "cell_type": "code",
   "execution_count": 197,
   "metadata": {},
   "outputs": [],
   "source": [
    "worst_seed_one = 1559299932183862168\n",
    "worst_seed_ten = 6078541502822159991"
   ]
  },
  {
   "cell_type": "code",
   "execution_count": 203,
   "metadata": {},
   "outputs": [
    {
     "name": "stderr",
     "output_type": "stream",
     "text": [
      "Playing matches: 100%|██████████| 10/10 [00:00<00:00, 10991.36it/s]"
     ]
    },
    {
     "name": "stdout",
     "output_type": "stream",
     "text": [
      "vs random 10.00 %\n"
     ]
    },
    {
     "name": "stderr",
     "output_type": "stream",
     "text": [
      "\n"
     ]
    }
   ],
   "source": [
    "# Example usage\n",
    "strategies = ['random']\n",
    "# q = random.randint(1,sys.maxsize)\n",
    "for opponent_name in strategies:\n",
    "    # opponent_name = 'random'\n",
    "    model_name = f'vs {opponent_name}'\n",
    "    strategies = [opponent_name,model_name]\n",
    "    agents = [agent1, rand_agent]\n",
    "    # strategies = ['random', 'greedy', 'block', 'center', 'corner', 'edge', 'alpha-beta']\n",
    "    rounds = 5\n",
    "    VERBOSE = False\n",
    "    SELF_GAMES = False\n",
    "    suppress_print()\n",
    "    random.seed(worst_seed_ten)\n",
    "    tournament_results, win_grid = round_robin_tournament(strategies, rounds, agents = agents, verbose= VERBOSE, self_games = SELF_GAMES, random_seed = None)\n",
    "    restore_print()\n",
    "    print(model_name, f'{tournament_results[model_name][\"wins\"] * 100/rounds/2:.2f} %')\n",
    "# # Display results\n",
    "# print()\n",
    "\n",
    "# for strategy, result in tournament_results.items():\n",
    "#     print(f\"{strategy}: Wins: {result['wins']}, Losses: {result['losses']}, Draws: {result['draws']}\")"
   ]
  },
  {
   "cell_type": "code",
   "execution_count": 173,
   "metadata": {},
   "outputs": [
    {
     "data": {
      "text/plain": [
       "6078541502822159991"
      ]
     },
     "execution_count": 173,
     "metadata": {},
     "output_type": "execute_result"
    }
   ],
   "source": [
    "q"
   ]
  },
  {
   "cell_type": "code",
   "execution_count": 31,
   "metadata": {},
   "outputs": [
    {
     "data": {
      "text/plain": [
       "('vs random', {'wins': 1, 'losses': 1, 'draws': 0})"
      ]
     },
     "execution_count": 31,
     "metadata": {},
     "output_type": "execute_result"
    }
   ],
   "source": [
    "2593304577720611152\n",
    "1559299932183862168"
   ]
  },
  {
   "cell_type": "code",
   "execution_count": 10,
   "metadata": {},
   "outputs": [
    {
     "data": {
      "text/plain": [
       "True"
      ]
     },
     "execution_count": 10,
     "metadata": {},
     "output_type": "execute_result"
    }
   ],
   "source": [
    "agent1.trainable"
   ]
  },
  {
   "cell_type": "code",
   "execution_count": 11,
   "metadata": {},
   "outputs": [],
   "source": []
  },
  {
   "cell_type": "code",
   "execution_count": 367,
   "metadata": {},
   "outputs": [
    {
     "name": "stderr",
     "output_type": "stream",
     "text": [
      "Playing matches: 100%|██████████| 100/100 [00:00<00:00, 6791.96it/s]\n"
     ]
    },
    {
     "name": "stdout",
     "output_type": "stream",
     "text": [
      "\n",
      "Epoch : 1 | Model: vs random : {'wins': 50, 'losses': 50, 'draws': 0} | 2 states \n"
     ]
    },
    {
     "name": "stderr",
     "output_type": "stream",
     "text": [
      "Playing matches: 100%|██████████| 100/100 [00:00<00:00, 9393.32it/s]\n"
     ]
    },
    {
     "name": "stdout",
     "output_type": "stream",
     "text": [
      "\n",
      "Epoch : 2 | Model: vs random : {'wins': 50, 'losses': 50, 'draws': 0} | 3 states \n"
     ]
    },
    {
     "name": "stderr",
     "output_type": "stream",
     "text": [
      "Playing matches: 100%|██████████| 100/100 [00:00<00:00, 7118.16it/s]\n"
     ]
    },
    {
     "name": "stdout",
     "output_type": "stream",
     "text": [
      "\n",
      "Epoch : 3 | Model: vs random : {'wins': 50, 'losses': 50, 'draws': 0} | 3 states \n"
     ]
    },
    {
     "name": "stderr",
     "output_type": "stream",
     "text": [
      "Playing matches: 100%|██████████| 100/100 [00:00<00:00, 7836.45it/s]\n"
     ]
    },
    {
     "name": "stdout",
     "output_type": "stream",
     "text": [
      "\n",
      "Epoch : 4 | Model: vs random : {'wins': 50, 'losses': 50, 'draws': 0} | 3 states \n"
     ]
    },
    {
     "name": "stderr",
     "output_type": "stream",
     "text": [
      "Playing matches: 100%|██████████| 100/100 [00:00<00:00, 7096.36it/s]\n"
     ]
    },
    {
     "name": "stdout",
     "output_type": "stream",
     "text": [
      "\n",
      "Epoch : 5 | Model: vs random : {'wins': 50, 'losses': 50, 'draws': 0} | 3 states \n"
     ]
    },
    {
     "name": "stderr",
     "output_type": "stream",
     "text": [
      "Playing matches: 100%|██████████| 100/100 [00:00<00:00, 5987.24it/s]\n"
     ]
    },
    {
     "name": "stdout",
     "output_type": "stream",
     "text": [
      "\n",
      "Epoch : 6 | Model: vs random : {'wins': 50, 'losses': 50, 'draws': 0} | 3 states \n"
     ]
    },
    {
     "name": "stderr",
     "output_type": "stream",
     "text": [
      "Playing matches: 100%|██████████| 100/100 [00:00<00:00, 8561.90it/s]\n"
     ]
    },
    {
     "name": "stdout",
     "output_type": "stream",
     "text": [
      "\n",
      "Epoch : 7 | Model: vs random : {'wins': 50, 'losses': 50, 'draws': 0} | 3 states \n"
     ]
    },
    {
     "name": "stderr",
     "output_type": "stream",
     "text": [
      "Playing matches: 100%|██████████| 100/100 [00:00<00:00, 3131.04it/s]\n"
     ]
    },
    {
     "name": "stdout",
     "output_type": "stream",
     "text": [
      "\n",
      "Epoch : 8 | Model: vs random : {'wins': 50, 'losses': 50, 'draws': 0} | 3 states \n"
     ]
    },
    {
     "name": "stderr",
     "output_type": "stream",
     "text": [
      "Playing matches: 100%|██████████| 100/100 [00:00<00:00, 6003.44it/s]\n"
     ]
    },
    {
     "name": "stdout",
     "output_type": "stream",
     "text": [
      "\n",
      "Epoch : 9 | Model: vs random : {'wins': 50, 'losses': 50, 'draws': 0} | 3 states \n"
     ]
    },
    {
     "name": "stderr",
     "output_type": "stream",
     "text": [
      "Playing matches: 100%|██████████| 100/100 [00:00<00:00, 4615.26it/s]\n"
     ]
    },
    {
     "name": "stdout",
     "output_type": "stream",
     "text": [
      "\n",
      "Epoch : 10 | Model: vs random : {'wins': 50, 'losses': 50, 'draws': 0} | 3 states \n"
     ]
    },
    {
     "name": "stderr",
     "output_type": "stream",
     "text": [
      "Playing matches: 100%|██████████| 100/100 [00:00<00:00, 8650.55it/s]\n"
     ]
    },
    {
     "name": "stdout",
     "output_type": "stream",
     "text": [
      "\n",
      "Epoch : 11 | Model: vs random : {'wins': 50, 'losses': 50, 'draws': 0} | 3 states \n"
     ]
    },
    {
     "name": "stderr",
     "output_type": "stream",
     "text": [
      "Playing matches: 100%|██████████| 100/100 [00:00<00:00, 5622.69it/s]\n"
     ]
    },
    {
     "name": "stdout",
     "output_type": "stream",
     "text": [
      "\n",
      "Epoch : 12 | Model: vs random : {'wins': 50, 'losses': 50, 'draws': 0} | 3 states \n"
     ]
    },
    {
     "name": "stderr",
     "output_type": "stream",
     "text": [
      "Playing matches: 100%|██████████| 100/100 [00:00<00:00, 5144.05it/s]\n"
     ]
    },
    {
     "name": "stdout",
     "output_type": "stream",
     "text": [
      "\n",
      "Epoch : 13 | Model: vs random : {'wins': 50, 'losses': 50, 'draws': 0} | 3 states \n"
     ]
    },
    {
     "name": "stderr",
     "output_type": "stream",
     "text": [
      "Playing matches: 100%|██████████| 100/100 [00:00<00:00, 6771.12it/s]\n"
     ]
    },
    {
     "name": "stdout",
     "output_type": "stream",
     "text": [
      "\n",
      "Epoch : 14 | Model: vs random : {'wins': 50, 'losses': 50, 'draws': 0} | 3 states \n"
     ]
    },
    {
     "name": "stderr",
     "output_type": "stream",
     "text": [
      "Playing matches: 100%|██████████| 100/100 [00:00<00:00, 5423.97it/s]\n"
     ]
    },
    {
     "name": "stdout",
     "output_type": "stream",
     "text": [
      "\n",
      "Epoch : 15 | Model: vs random : {'wins': 50, 'losses': 50, 'draws': 0} | 3 states \n"
     ]
    },
    {
     "name": "stderr",
     "output_type": "stream",
     "text": [
      "Playing matches: 100%|██████████| 100/100 [00:00<00:00, 15947.92it/s]\n"
     ]
    },
    {
     "name": "stdout",
     "output_type": "stream",
     "text": [
      "\n",
      "Epoch : 16 | Model: vs random : {'wins': 50, 'losses': 50, 'draws': 0} | 3 states \n"
     ]
    },
    {
     "name": "stderr",
     "output_type": "stream",
     "text": [
      "Playing matches: 100%|██████████| 100/100 [00:00<00:00, 6429.33it/s]\n"
     ]
    },
    {
     "name": "stdout",
     "output_type": "stream",
     "text": [
      "\n",
      "Epoch : 17 | Model: vs random : {'wins': 50, 'losses': 50, 'draws': 0} | 3 states \n"
     ]
    },
    {
     "name": "stderr",
     "output_type": "stream",
     "text": [
      "Playing matches: 100%|██████████| 100/100 [00:00<00:00, 5666.29it/s]\n"
     ]
    },
    {
     "name": "stdout",
     "output_type": "stream",
     "text": [
      "\n",
      "Epoch : 18 | Model: vs random : {'wins': 50, 'losses': 50, 'draws': 0} | 3 states \n"
     ]
    },
    {
     "name": "stderr",
     "output_type": "stream",
     "text": [
      "Playing matches: 100%|██████████| 100/100 [00:00<00:00, 6153.16it/s]\n"
     ]
    },
    {
     "name": "stdout",
     "output_type": "stream",
     "text": [
      "\n",
      "Epoch : 19 | Model: vs random : {'wins': 50, 'losses': 50, 'draws': 0} | 3 states \n"
     ]
    },
    {
     "name": "stderr",
     "output_type": "stream",
     "text": [
      "Playing matches: 100%|██████████| 100/100 [00:00<00:00, 5720.62it/s]\n"
     ]
    },
    {
     "name": "stdout",
     "output_type": "stream",
     "text": [
      "\n",
      "Epoch : 20 | Model: vs random : {'wins': 50, 'losses': 50, 'draws': 0} | 3 states \n"
     ]
    },
    {
     "name": "stderr",
     "output_type": "stream",
     "text": [
      "Playing matches: 100%|██████████| 100/100 [00:00<00:00, 14446.68it/s]\n"
     ]
    },
    {
     "name": "stdout",
     "output_type": "stream",
     "text": [
      "\n",
      "Epoch : 21 | Model: vs random : {'wins': 50, 'losses': 50, 'draws': 0} | 3 states \n"
     ]
    },
    {
     "name": "stderr",
     "output_type": "stream",
     "text": [
      "Playing matches: 100%|██████████| 100/100 [00:00<00:00, 4661.22it/s]\n"
     ]
    },
    {
     "name": "stdout",
     "output_type": "stream",
     "text": [
      "\n",
      "Epoch : 22 | Model: vs random : {'wins': 50, 'losses': 50, 'draws': 0} | 3 states \n"
     ]
    },
    {
     "name": "stderr",
     "output_type": "stream",
     "text": [
      "Playing matches: 100%|██████████| 100/100 [00:00<00:00, 2896.04it/s]\n"
     ]
    },
    {
     "name": "stdout",
     "output_type": "stream",
     "text": [
      "\n",
      "Epoch : 23 | Model: vs random : {'wins': 50, 'losses': 50, 'draws': 0} | 3 states \n"
     ]
    },
    {
     "name": "stderr",
     "output_type": "stream",
     "text": [
      "Playing matches: 100%|██████████| 100/100 [00:00<00:00, 3317.99it/s]\n"
     ]
    },
    {
     "name": "stdout",
     "output_type": "stream",
     "text": [
      "\n",
      "Epoch : 24 | Model: vs random : {'wins': 50, 'losses': 50, 'draws': 0} | 3 states \n"
     ]
    },
    {
     "name": "stderr",
     "output_type": "stream",
     "text": [
      "Playing matches: 100%|██████████| 100/100 [00:00<00:00, 5711.28it/s]\n"
     ]
    },
    {
     "name": "stdout",
     "output_type": "stream",
     "text": [
      "\n",
      "Epoch : 25 | Model: vs random : {'wins': 50, 'losses': 50, 'draws': 0} | 3 states \n"
     ]
    },
    {
     "name": "stderr",
     "output_type": "stream",
     "text": [
      "Playing matches: 100%|██████████| 100/100 [00:00<00:00, 6916.16it/s]\n"
     ]
    },
    {
     "name": "stdout",
     "output_type": "stream",
     "text": [
      "\n",
      "Epoch : 26 | Model: vs random : {'wins': 50, 'losses': 50, 'draws': 0} | 3 states \n"
     ]
    },
    {
     "name": "stderr",
     "output_type": "stream",
     "text": [
      "Playing matches: 100%|██████████| 100/100 [00:00<00:00, 7973.20it/s]\n"
     ]
    },
    {
     "name": "stdout",
     "output_type": "stream",
     "text": [
      "\n",
      "Epoch : 27 | Model: vs random : {'wins': 50, 'losses': 50, 'draws': 0} | 3 states \n"
     ]
    },
    {
     "name": "stderr",
     "output_type": "stream",
     "text": [
      "Playing matches: 100%|██████████| 100/100 [00:00<00:00, 7503.63it/s]\n"
     ]
    },
    {
     "name": "stdout",
     "output_type": "stream",
     "text": [
      "\n",
      "Epoch : 28 | Model: vs random : {'wins': 50, 'losses': 50, 'draws': 0} | 3 states \n"
     ]
    },
    {
     "name": "stderr",
     "output_type": "stream",
     "text": [
      "Playing matches: 100%|██████████| 100/100 [00:00<00:00, 35864.08it/s]\n"
     ]
    },
    {
     "name": "stdout",
     "output_type": "stream",
     "text": [
      "\n",
      "Epoch : 29 | Model: vs random : {'wins': 50, 'losses': 50, 'draws': 0} | 3 states \n"
     ]
    },
    {
     "name": "stderr",
     "output_type": "stream",
     "text": [
      "Playing matches: 100%|██████████| 100/100 [00:00<00:00, 125992.91it/s]\n"
     ]
    },
    {
     "name": "stdout",
     "output_type": "stream",
     "text": [
      "\n",
      "Epoch : 30 | Model: vs random : {'wins': 50, 'losses': 50, 'draws': 0} | 3 states \n"
     ]
    },
    {
     "name": "stderr",
     "output_type": "stream",
     "text": [
      "Playing matches: 100%|██████████| 100/100 [00:00<00:00, 25765.12it/s]\n"
     ]
    },
    {
     "name": "stdout",
     "output_type": "stream",
     "text": [
      "\n",
      "Epoch : 31 | Model: vs random : {'wins': 50, 'losses': 50, 'draws': 0} | 3 states \n"
     ]
    },
    {
     "name": "stderr",
     "output_type": "stream",
     "text": [
      "Playing matches: 100%|██████████| 100/100 [00:00<00:00, 5993.49it/s]\n"
     ]
    },
    {
     "name": "stdout",
     "output_type": "stream",
     "text": [
      "\n",
      "Epoch : 32 | Model: vs random : {'wins': 50, 'losses': 50, 'draws': 0} | 3 states \n"
     ]
    },
    {
     "name": "stderr",
     "output_type": "stream",
     "text": [
      "Playing matches: 100%|██████████| 100/100 [00:00<00:00, 48753.97it/s]\n"
     ]
    },
    {
     "name": "stdout",
     "output_type": "stream",
     "text": [
      "\n",
      "Epoch : 33 | Model: vs random : {'wins': 50, 'losses': 50, 'draws': 0} | 3 states \n"
     ]
    },
    {
     "name": "stderr",
     "output_type": "stream",
     "text": [
      "Playing matches: 100%|██████████| 100/100 [00:00<00:00, 6768.94it/s]\n"
     ]
    },
    {
     "name": "stdout",
     "output_type": "stream",
     "text": [
      "\n",
      "Epoch : 34 | Model: vs random : {'wins': 50, 'losses': 50, 'draws': 0} | 3 states \n"
     ]
    },
    {
     "name": "stderr",
     "output_type": "stream",
     "text": [
      "Playing matches: 100%|██████████| 100/100 [00:00<00:00, 7409.78it/s]\n"
     ]
    },
    {
     "name": "stdout",
     "output_type": "stream",
     "text": [
      "\n",
      "Epoch : 35 | Model: vs random : {'wins': 50, 'losses': 50, 'draws': 0} | 3 states \n"
     ]
    },
    {
     "name": "stderr",
     "output_type": "stream",
     "text": [
      "Playing matches: 100%|██████████| 100/100 [00:00<00:00, 6341.46it/s]\n"
     ]
    },
    {
     "name": "stdout",
     "output_type": "stream",
     "text": [
      "\n",
      "Epoch : 36 | Model: vs random : {'wins': 50, 'losses': 50, 'draws': 0} | 3 states \n"
     ]
    },
    {
     "name": "stderr",
     "output_type": "stream",
     "text": [
      "Playing matches: 100%|██████████| 100/100 [00:00<00:00, 7961.25it/s]\n"
     ]
    },
    {
     "name": "stdout",
     "output_type": "stream",
     "text": [
      "\n",
      "Epoch : 37 | Model: vs random : {'wins': 50, 'losses': 50, 'draws': 0} | 3 states \n"
     ]
    },
    {
     "name": "stderr",
     "output_type": "stream",
     "text": [
      "Playing matches: 100%|██████████| 100/100 [00:00<00:00, 6344.82it/s]\n"
     ]
    },
    {
     "name": "stdout",
     "output_type": "stream",
     "text": [
      "\n",
      "Epoch : 38 | Model: vs random : {'wins': 50, 'losses': 50, 'draws': 0} | 3 states \n"
     ]
    },
    {
     "name": "stderr",
     "output_type": "stream",
     "text": [
      "Playing matches: 100%|██████████| 100/100 [00:00<00:00, 5534.26it/s]\n"
     ]
    },
    {
     "name": "stdout",
     "output_type": "stream",
     "text": [
      "\n",
      "Epoch : 39 | Model: vs random : {'wins': 50, 'losses': 50, 'draws': 0} | 3 states \n"
     ]
    },
    {
     "name": "stderr",
     "output_type": "stream",
     "text": [
      "Playing matches: 100%|██████████| 100/100 [00:00<00:00, 4636.79it/s]"
     ]
    },
    {
     "name": "stdout",
     "output_type": "stream",
     "text": [
      "\n",
      "Epoch : 40 | Model: vs random : {'wins': 50, 'losses': 50, 'draws': 0} | 3 states \n"
     ]
    },
    {
     "name": "stderr",
     "output_type": "stream",
     "text": [
      "\n"
     ]
    }
   ],
   "source": [
    "# def train_agent(agent1, agent2, num_episodes):\n",
    "# def train_agent(agent1, agent2, num_episodes)`\n",
    "\n",
    "# agent1 = # Initialize the agents\n",
    "agent1 = QLearningAgent(player_number=1, alpha=0.1, gamma=0.9, epsilon=0.2)\n",
    "agent1.q_table = {}\n",
    "agent1.trainable = True\n",
    "agent2 = rand_agent\n",
    "q = random.randint(1,sys.maxsize)\n",
    "random.seed(42)\n",
    "\n",
    "num_episodes = 40\n",
    "# def train_agent(agent1, agent2, num_episodes):\n",
    "if True:\n",
    "    agents = [0, agent1, agent2]\n",
    "    for episode in range(num_episodes):\n",
    "        board = initialize_board()  # Start with a fresh game board\n",
    "        \n",
    "        # Store state-action pairs for both agents\n",
    "        # agent1_moves = []  # Memory for agent 1\n",
    "        # agent2_moves = []  # Memory for agent 2\n",
    "        moves = []\n",
    "        \n",
    "        while True:\n",
    "            # Update available moves\n",
    "            # for turn in range(1,3,):\n",
    "            turn = 1\n",
    "\n",
    "            available_moves = get_available_moves(board)\n",
    "            agent = agents[turn]\n",
    "            # Agent 1 selects a move\n",
    "            move = agent.select_move(board, available_moves)\n",
    "            # Store the state and action for agent1\n",
    "            moves.append(move)\n",
    "            # agent1_moves.append(agent1.state_representation(board), move)\n",
    "\n",
    "            # Apply the move and get the next state\n",
    "            board = make_move(board, move, turn)\n",
    "            # next_board = apply_move(board, move1, player_number=1)\n",
    "\n",
    "            agents[turn] = agent\n",
    "            \n",
    "\n",
    "            # Check if the game is over after agent 1's move\n",
    "            if check_winner(board)!=-1:\n",
    "                # print(\"Game over\")\n",
    "                break\n",
    "\n",
    "        \n",
    "\n",
    "            turn = 3-turn\n",
    "            \n",
    "\n",
    "            \n",
    "\n",
    "\n",
    "        # After the game ends, determine the winner\n",
    "        winner = check_winner(board)  # Implement this function to check who won\n",
    "        if winner == 1:\n",
    "            reward1 = 100  # Agent 1 wins\n",
    "            reward2 = -100  # Agent 2 loses\n",
    "        elif winner == 2:\n",
    "            reward1 = -100 # Agent 1 loses\n",
    "            reward2 = 100 # Agent 2 wins\n",
    "        else:\n",
    "            reward1 = 0  # Draw\n",
    "            reward2 = 0  # Draw\n",
    "\n",
    "        rewards = [0,reward1, reward2]\n",
    "\n",
    "        # # Update Q-values for agent 1\n",
    "        # for state, action in agent1_moves:\n",
    "        #     agent1.update_q_value(state, action, reward1, agent1.state_representation(board))\n",
    "        \n",
    "        # # Update Q-values for agent 2\n",
    "        # for state, action in agent2_moves:\n",
    "        #     agent2.update_q_value(state, action, reward2, agent2.state_representation(board))\n",
    "\n",
    "         # Reconstruct the board state for each move and update Q-values\n",
    "        # board = initialize_board()  # Reset to initial state to reconstruct the game\n",
    "        turn_count = len(moves)\n",
    "        # state = agent.state_representation(board)\n",
    "\n",
    "        # print(f\"ran {turn_count} moves\")\n",
    "        for turn in range(turn_count-1, -1, -1):\n",
    "            # print(\"Updating turn \", turn)\n",
    "            i = turn%2 + 1\n",
    "\n",
    "            agent = agents[i]            \n",
    "            move = moves[turn]\n",
    "\n",
    "            next_board = board.copy()\n",
    "            board = unmove(board, move, i)\n",
    "\n",
    "            \n",
    "            # Calculate discounted reward\n",
    "            if agent.trainable:\n",
    "                # print(\"here\")\n",
    "                # discounted_reward = rewards[i] * (agent.gamma ** (turn_count - i))\n",
    "                reward = rewards[i] \n",
    "                # Update Q-value for agent 1 with the reconstructed state\n",
    "                state = agent.state_representation(board)  # State before the move\n",
    "\n",
    "                agent.update_q_value(state, move, reward, agent.state_representation(next_board))\n",
    "\n",
    "            agents[i] = agent\n",
    "            rewards[i] = 0\n",
    "            \n",
    "        _, agent1, agent2 = agents\n",
    "\n",
    "        # print(agent1.q_table)\n",
    "        strategies = ['random']\n",
    "        # q = random.randint(1,sys.maxsize)\n",
    "        for opponent_name in strategies:\n",
    "            # opponent_name = 'random'\n",
    "            model_name = f'vs {opponent_name}'\n",
    "            strategies = [opponent_name,model_name]\n",
    "            _agents = [agent1, rand_agent]\n",
    "            # strategies = ['random', 'greedy', 'block', 'center', 'corner', 'edge', 'alpha-beta']\n",
    "            rounds = 50\n",
    "            VERBOSE = False\n",
    "            SELF_GAMES = False\n",
    "            suppress_print()\n",
    "            \n",
    "            tournament_results, win_grid = round_robin_tournament(strategies, rounds, agents = _agents, verbose= VERBOSE, self_games = SELF_GAMES, random_seed = 42)\n",
    "            restore_print()\n",
    "            # print(model_name, f'{tournament_results[model_name][\"wins\"] * 100/rounds/2:.2f} %')\n",
    "            print(f\"\\nEpoch : {episode + 1} | Model: {model_name} : {tournament_results[model_name]} | {len(agent1.q_table)} states \")\n",
    "            # print(f\"Epoch : {episode + 1} | Model: {model_name} | Win Rate: {tournament_results[model_name]['wins'] * 100 / rounds:.2f} %\")\n"
   ]
  },
  {
   "cell_type": "code",
   "execution_count": 283,
   "metadata": {},
   "outputs": [
    {
     "data": {
      "text/plain": [
       "4920221140080307076"
      ]
     },
     "execution_count": 283,
     "metadata": {},
     "output_type": "execute_result"
    }
   ],
   "source": [
    "q"
   ]
  },
  {
   "cell_type": "code",
   "execution_count": 366,
   "metadata": {},
   "outputs": [
    {
     "data": {
      "text/plain": [
       "{(1, (1, 0, 0, 0, 1, 0, 0, 0, 0)): {7: 10.0},\n",
       " (1, (0, 0, 0, 0, 0, 0, 0, 0, 0)): {0: 0.0},\n",
       " (1, (1, 0, 1, 0, 0, 0, 0, 0, 0)): {1: 98.35767967317392}}"
      ]
     },
     "execution_count": 366,
     "metadata": {},
     "output_type": "execute_result"
    }
   ],
   "source": [
    "# agent1.q_table = {}\n",
    "agent1.q_table"
   ]
  },
  {
   "cell_type": "code",
   "execution_count": 17,
   "metadata": {},
   "outputs": [
    {
     "data": {
      "text/plain": [
       "array([0, 0, 0, 0, 0, 0, 0, 0, 0])"
      ]
     },
     "execution_count": 17,
     "metadata": {},
     "output_type": "execute_result"
    }
   ],
   "source": [
    "board"
   ]
  }
 ],
 "metadata": {
  "kernelspec": {
   "display_name": "Python 3",
   "language": "python",
   "name": "python3"
  },
  "language_info": {
   "codemirror_mode": {
    "name": "ipython",
    "version": 3
   },
   "file_extension": ".py",
   "mimetype": "text/x-python",
   "name": "python",
   "nbconvert_exporter": "python",
   "pygments_lexer": "ipython3",
   "version": "3.11.2"
  }
 },
 "nbformat": 4,
 "nbformat_minor": 2
}
