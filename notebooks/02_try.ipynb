{
 "cells": [
  {
   "cell_type": "code",
   "execution_count": 21,
   "metadata": {},
   "outputs": [
    {
     "name": "stdout",
     "output_type": "stream",
     "text": [
      "Collecting ultraimport\n",
      "  Downloading ultraimport-0.0.7.tar.gz (227 kB)\n",
      "     ---------------------------------------- 0.0/227.0 kB ? eta -:--:--\n",
      "     --------------- ----------------------- 92.2/227.0 kB 1.7 MB/s eta 0:00:01\n",
      "     -------------------------------- ----- 194.6/227.0 kB 2.4 MB/s eta 0:00:01\n",
      "     -------------------------------------- 227.0/227.0 kB 1.5 MB/s eta 0:00:00\n",
      "  Installing build dependencies: started\n",
      "  Installing build dependencies: finished with status 'done'\n",
      "  Getting requirements to build wheel: started\n",
      "  Getting requirements to build wheel: finished with status 'done'\n",
      "  Preparing metadata (pyproject.toml): started\n",
      "  Preparing metadata (pyproject.toml): finished with status 'done'\n",
      "Building wheels for collected packages: ultraimport\n",
      "  Building wheel for ultraimport (pyproject.toml): started\n",
      "  Building wheel for ultraimport (pyproject.toml): finished with status 'done'\n",
      "  Created wheel for ultraimport: filename=ultraimport-0.0.7-cp311-cp311-win_amd64.whl size=183614 sha256=f0f4d77f659db3f6332985fb82b54c29c452b0585e6e97d564132ba3ac967838\n",
      "  Stored in directory: c:\\users\\pande\\appdata\\local\\pip\\cache\\wheels\\65\\12\\11\\2c49a6cf8245c6eadcb3e3cc784e099c3cc471db63090de160\n",
      "Successfully built ultraimport\n",
      "Installing collected packages: ultraimport\n",
      "Successfully installed ultraimport-0.0.7\n",
      "Note: you may need to restart the kernel to use updated packages.\n"
     ]
    },
    {
     "name": "stderr",
     "output_type": "stream",
     "text": [
      "\n",
      "[notice] A new release of pip is available: 24.0 -> 24.2\n",
      "[notice] To update, run: python.exe -m pip install --upgrade pip\n"
     ]
    }
   ],
   "source": [
    "pip install ultraimport"
   ]
  },
  {
   "cell_type": "code",
   "execution_count": 1,
   "metadata": {},
   "outputs": [],
   "source": [
    "import ultraimport"
   ]
  },
  {
   "cell_type": "code",
   "execution_count": 3,
   "metadata": {},
   "outputs": [
    {
     "data": {
      "text/plain": [
       "'c:\\\\Users\\\\pande\\\\OneDrive\\\\Documents\\\\code\\\\DL\\\\DL self mini projects\\\\DL02-RL-tictactoe\\\\notebooks'"
      ]
     },
     "execution_count": 3,
     "metadata": {},
     "output_type": "execute_result"
    }
   ],
   "source": [
    "import os\n",
    "os.getcwd()"
   ]
  },
  {
   "cell_type": "code",
   "execution_count": 6,
   "metadata": {},
   "outputs": [
    {
     "data": {
      "text/plain": [
       "{'N': 3,\n",
       " 'board': array([0, 0, 0, 0, 0, 0, 0, 0, 0]),\n",
       " 'check_winner': <function helper.check_winner(board)>,\n",
       " 'get_available_moves': <function helper.get_available_moves(board)>,\n",
       " 'i': 2,\n",
       " 'initialize_board': <function helper.initialize_board()>,\n",
       " 'is_board_full': <function helper.is_board_full(board)>,\n",
       " 'isvacant': <function helper.isvacant(board, position)>,\n",
       " 'j': 2,\n",
       " 'make_move': <function helper.make_move(board, position, player)>,\n",
       " 'np': <module 'numpy' from 'c:\\\\Users\\\\pande\\\\AppData\\\\Local\\\\Programs\\\\Python\\\\Python311\\\\Lib\\\\site-packages\\\\numpy\\\\__init__.py'>,\n",
       " 'play_game': <function helper.play_game(agent1=None, agent2=None)>,\n",
       " 'print_board': <function helper.print_board(board)>,\n",
       " 'reset_board': <function helper.reset_board(board)>,\n",
       " 'ultraimport': <module 'ultraimport.ultraimport' from 'c:\\\\Users\\\\pande\\\\AppData\\\\Local\\\\Programs\\\\Python\\\\Python311\\\\Lib\\\\site-packages\\\\ultraimport\\\\ultraimport.py'>,\n",
       " 'winning_combinations': [[0, 1, 2],\n",
       "  [3, 4, 5],\n",
       "  [6, 7, 8],\n",
       "  [0, 3, 6],\n",
       "  [1, 4, 7],\n",
       "  [2, 5, 8],\n",
       "  [0, 4, 8],\n",
       "  [2, 4, 6]]}"
      ]
     },
     "execution_count": 6,
     "metadata": {},
     "output_type": "execute_result"
    }
   ],
   "source": [
    "ultraimport('../scripts/helper.py','*', add_to_ns=globals())"
   ]
  }
 ],
 "metadata": {
  "kernelspec": {
   "display_name": "Python 3",
   "language": "python",
   "name": "python3"
  },
  "language_info": {
   "codemirror_mode": {
    "name": "ipython",
    "version": 3
   },
   "file_extension": ".py",
   "mimetype": "text/x-python",
   "name": "python",
   "nbconvert_exporter": "python",
   "pygments_lexer": "ipython3",
   "version": "3.11.2"
  }
 },
 "nbformat": 4,
 "nbformat_minor": 2
}
