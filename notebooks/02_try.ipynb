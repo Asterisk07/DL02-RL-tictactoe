{
 "cells": [
  {
   "cell_type": "code",
   "execution_count": 1,
   "metadata": {},
   "outputs": [
    {
     "name": "stdout",
     "output_type": "stream",
     "text": [
      "Requirement already satisfied: ultraimport in c:\\users\\pande\\appdata\\local\\programs\\python\\python311\\lib\\site-packages (0.0.7)\n",
      "Note: you may need to restart the kernel to use updated packages.\n"
     ]
    },
    {
     "name": "stderr",
     "output_type": "stream",
     "text": [
      "\n",
      "[notice] A new release of pip is available: 24.0 -> 24.2\n",
      "[notice] To update, run: python.exe -m pip install --upgrade pip\n"
     ]
    }
   ],
   "source": [
    "pip install ultraimport"
   ]
  },
  {
   "cell_type": "markdown",
   "metadata": {},
   "source": [
    "## supress print"
   ]
  },
  {
   "cell_type": "code",
   "execution_count": 2,
   "metadata": {},
   "outputs": [],
   "source": [
    "import builtins\n",
    "\n",
    "# Step 1: Store the original print function\n",
    "original_print = builtins.print\n",
    "\n",
    "def suppress_print():\n",
    "    \"\"\"Temporarily suppress print statements.\"\"\"\n",
    "    builtins.print = lambda *args, **kwargs: None  # Override print with a no-op\n",
    "\n",
    "def restore_print():\n",
    "    \"\"\"Restore the original print function.\"\"\"\n",
    "    builtins.print = original_print  # Restore to the saved original print function\n",
    "\n"
   ]
  },
  {
   "cell_type": "code",
   "execution_count": 3,
   "metadata": {},
   "outputs": [],
   "source": [
    "import ultraimport"
   ]
  },
  {
   "cell_type": "code",
   "execution_count": 4,
   "metadata": {},
   "outputs": [
    {
     "data": {
      "text/plain": [
       "'c:\\\\Users\\\\pande\\\\OneDrive\\\\Documents\\\\code\\\\DL\\\\DL self mini projects\\\\DL02-RL-tictactoe\\\\notebooks'"
      ]
     },
     "execution_count": 4,
     "metadata": {},
     "output_type": "execute_result"
    }
   ],
   "source": [
    "import os\n",
    "os.getcwd()"
   ]
  },
  {
   "cell_type": "code",
   "execution_count": 5,
   "metadata": {},
   "outputs": [
    {
     "data": {
      "text/plain": [
       "{'N': 3,\n",
       " 'board': array([0, 0, 0, 0, 0, 0, 0, 0, 0]),\n",
       " 'check_winner': <function helper.check_winner(board)>,\n",
       " 'find_winning_move': <function helper.find_winning_move(board, available_moves, player_number)>,\n",
       " 'get_available_moves': <function helper.get_available_moves(board)>,\n",
       " 'i': 2,\n",
       " 'initialize_board': <function helper.initialize_board()>,\n",
       " 'is_board_full': <function helper.is_board_full(board)>,\n",
       " 'isvacant': <function helper.isvacant(board, position)>,\n",
       " 'j': 2,\n",
       " 'make_move': <function helper.make_move(board, position, player)>,\n",
       " 'np': <module 'numpy' from 'c:\\\\Users\\\\pande\\\\AppData\\\\Local\\\\Programs\\\\Python\\\\Python311\\\\Lib\\\\site-packages\\\\numpy\\\\__init__.py'>,\n",
       " 'play_game': <function helper.play_game(agent1=None, agent2=None)>,\n",
       " 'print_board': <function helper.print_board(board)>,\n",
       " 'random': <module 'random' from 'c:\\\\Users\\\\pande\\\\AppData\\\\Local\\\\Programs\\\\Python\\\\Python311\\\\Lib\\\\random.py'>,\n",
       " 'random_move': <function helper.random_move(board, available_moves)>,\n",
       " 'reset_board': <function helper.reset_board(board)>,\n",
       " 'ultraimport': <module 'ultraimport.ultraimport' from 'c:\\\\Users\\\\pande\\\\AppData\\\\Local\\\\Programs\\\\Python\\\\Python311\\\\Lib\\\\site-packages\\\\ultraimport\\\\ultraimport.py'>,\n",
       " 'winning_combinations': [[0, 1, 2],\n",
       "  [3, 4, 5],\n",
       "  [6, 7, 8],\n",
       "  [0, 3, 6],\n",
       "  [1, 4, 7],\n",
       "  [2, 5, 8],\n",
       "  [0, 4, 8],\n",
       "  [2, 4, 6]]}"
      ]
     },
     "execution_count": 5,
     "metadata": {},
     "output_type": "execute_result"
    }
   ],
   "source": [
    "ultraimport('../scripts/helper.py','*', add_to_ns=globals())"
   ]
  },
  {
   "cell_type": "code",
   "execution_count": 6,
   "metadata": {},
   "outputs": [
    {
     "data": {
      "text/plain": [
       "array([0, 0, 0, 0, 0, 0, 0, 0, 0])"
      ]
     },
     "execution_count": 6,
     "metadata": {},
     "output_type": "execute_result"
    }
   ],
   "source": [
    "board = initialize_board()\n",
    "board"
   ]
  },
  {
   "cell_type": "code",
   "execution_count": null,
   "metadata": {},
   "outputs": [],
   "source": []
  },
  {
   "cell_type": "markdown",
   "metadata": {},
   "source": [
    "## Move selection"
   ]
  },
  {
   "cell_type": "code",
   "execution_count": 25,
   "metadata": {},
   "outputs": [],
   "source": []
  },
  {
   "cell_type": "code",
   "execution_count": 7,
   "metadata": {},
   "outputs": [],
   "source": [
    "class Agent:\n",
    "    def __init__(self, player_number, strategy = 'random'):\n",
    "        self.player_number = player_number\n",
    "        self.strategy = strategy\n",
    "\n",
    "    def select_move(self, board, available_moves = None):\n",
    "        if available_moves is None:\n",
    "            available_moves = get_available_moves(board)\n",
    "        if self.strategy == 'random':\n",
    "            return random_move(board, available_moves)\n",
    "        elif self.strategy == 'greedy':\n",
    "            return self.greedy_move(board, available_moves, self.player_number)\n",
    "        elif self.strategy == 'block':\n",
    "            return self.greedy_move(board, available_moves, self.player_number)\n",
    "        else:\n",
    "            raise Exception(f'Invalid strategy {strategy}')\n",
    "        # Add more strategies as needed    \n",
    "    \n",
    "    def block_move(self, board, available_moves, player_number):\n",
    "        #try to block opponent win\n",
    "        other_player = 3 - player_number\n",
    "        move = find_winning_move(board, available_moves, other_player)\n",
    "        if move !=-1:\n",
    "            return move\n",
    "        else:\n",
    "            return random_move(board, available_moves)\n",
    "\n",
    "    def greedy_move(self, board, available_moves, player_number):\n",
    "        # Try to win in single turn\n",
    "        move = find_winning_move(board, available_moves, player_number)\n",
    "        if move !=-1:\n",
    "            return move\n",
    "\n",
    "        return self.block_move(board, available_moves, player_number)\n",
    "\n",
    "        \n"
   ]
  },
  {
   "cell_type": "markdown",
   "metadata": {},
   "source": [
    "## Round robin Tournament"
   ]
  },
  {
   "cell_type": "code",
   "execution_count": 8,
   "metadata": {},
   "outputs": [],
   "source": [
    "from tqdm import tqdm"
   ]
  },
  {
   "cell_type": "code",
   "execution_count": 30,
   "metadata": {},
   "outputs": [],
   "source": [
    "def round_robin_tournament(strategies, rounds = 1):\n",
    "    # Step 1: Create a list to hold results\n",
    "    results = {strategy: {\"wins\": 0, \"losses\": 0, \"draws\": 0} for strategy in strategies}\n",
    "\n",
    "    # Step 2: Create agents for each strategy\n",
    "    agents = {strategy: Agent(player_number=1, strategy=strategy) for strategy in strategies}\n",
    "\n",
    "    # Step 3: Play games among agents\n",
    "    total_matches = 2 * len(strategies) * (len(strategies) - 1) * rounds\n",
    "\n",
    "    suppress_print()\n",
    "    with tqdm(total=total_matches, desc='Playing matches') as pbar:\n",
    "        for round in range(rounds):\n",
    "            for strategy1 in strategies:\n",
    "                for strategy2 in strategies:\n",
    "                    if strategy1 == strategy2:  # Skip if both strategies are the same\n",
    "                        \n",
    "                        continue\n",
    "                    \n",
    "\n",
    "                    random.seed(42)  # Initialize before the match\n",
    "\n",
    "                    # Step 4: Create two agents for the current match\n",
    "                    agent1 = agents[strategy1]\n",
    "                    agent2 = agents[strategy2]\n",
    "\n",
    "                    for match in range(1,3):\n",
    "                        print(f\"Player 1 : {strategy1}, Player 2 : {strategy2}\")\n",
    "                        # Temporarily set player numbers for the match\n",
    "                        agent1.player_number = match\n",
    "                        agent2.player_number = 3 - match\n",
    "\n",
    "                        # Play game and get the result\n",
    "                        winner = play_game(agent1=agent1, agent2=agent2)\n",
    "\n",
    "                        # Step 5: Update results based on the winner\n",
    "                        if winner == 0:  # Draw\n",
    "                            results[strategy1][\"draws\"] += 1\n",
    "                            results[strategy2][\"draws\"] += 1\n",
    "                        elif winner == 1:  # agent1 wins\n",
    "                            results[strategy1][\"wins\"] += 1\n",
    "                            results[strategy2][\"losses\"] += 1\n",
    "                        elif winner == 2:  # agent2 wins\n",
    "                            results[strategy2][\"wins\"] += 1\n",
    "                            results[strategy1][\"losses\"] += 1\n",
    "                        else:\n",
    "                            print(winner ,\"wom\")\n",
    "                        pbar.update(1)\n",
    "\n",
    "    restore_print()\n",
    "    # Step 6: Print or return results\n",
    "    return results"
   ]
  },
  {
   "cell_type": "code",
   "execution_count": null,
   "metadata": {},
   "outputs": [],
   "source": []
  },
  {
   "cell_type": "code",
   "execution_count": 12,
   "metadata": {},
   "outputs": [],
   "source": [
    "# # testing \n",
    "# strategies = ['random', 'greedy', 'block']\n",
    "# agents = {strategy: Agent(player_number=1, strategy=strategy) for strategy in strategies}\n",
    "# strategy1 = 'greedy'\n",
    "# strategy2 = 'block'\n",
    "# agent1 = agents[strategy1]\n",
    "# agent2 = agents[strategy2]\n",
    "\n",
    "# match = 1\n",
    "# print(f\"Player 1 : {strategy1}, Player 2 : {strategy2}\")\n",
    "# # Temporarily set player numbers for the match\n",
    "# agent1.player_number = match\n",
    "# agent2.player_number = 3 - match\n",
    "# winner = play_game(agent1=agent1, agent2=agent2)\n",
    "# print(\"winner is \",winner)"
   ]
  },
  {
   "cell_type": "code",
   "execution_count": 32,
   "metadata": {},
   "outputs": [
    {
     "name": "stderr",
     "output_type": "stream",
     "text": [
      "Playing matches: 100%|██████████| 120/120 [00:00<00:00, 1689.96it/s]"
     ]
    },
    {
     "name": "stdout",
     "output_type": "stream",
     "text": [
      "random: Wins: 20, Losses: 60, Draws: 0\n",
      "greedy: Wins: 50, Losses: 30, Draws: 0\n",
      "block: Wins: 50, Losses: 30, Draws: 0\n"
     ]
    },
    {
     "name": "stderr",
     "output_type": "stream",
     "text": [
      "\n"
     ]
    }
   ],
   "source": [
    "\n",
    "\n",
    "# Example usage\n",
    "strategies = ['random', 'greedy', 'block']\n",
    "# strategies = ['random', 'greedy', 'block', 'center', 'corner', 'edge', 'alpha-beta']\n",
    "rounds = 10\n",
    "tournament_results = round_robin_tournament(strategies, rounds)\n",
    "\n",
    "# Display results\n",
    "\n",
    "\n",
    "for strategy, result in tournament_results.items():\n",
    "    print(f\"{strategy}: Wins: {result['wins']}, Losses: {result['losses']}, Draws: {result['draws']}\")\n"
   ]
  },
  {
   "cell_type": "code",
   "execution_count": null,
   "metadata": {},
   "outputs": [],
   "source": []
  },
  {
   "cell_type": "markdown",
   "metadata": {},
   "source": [
    "## Display results"
   ]
  },
  {
   "cell_type": "code",
   "execution_count": 22,
   "metadata": {},
   "outputs": [
    {
     "data": {
      "text/plain": [
       "{'random': {'wins': 2, 'losses': 6, 'draws': 0},\n",
       " 'greedy': {'wins': 5, 'losses': 3, 'draws': 0},\n",
       " 'block': {'wins': 5, 'losses': 3, 'draws': 0}}"
      ]
     },
     "execution_count": 22,
     "metadata": {},
     "output_type": "execute_result"
    }
   ],
   "source": [
    "tournament_results"
   ]
  },
  {
   "cell_type": "code",
   "execution_count": 33,
   "metadata": {},
   "outputs": [
    {
     "name": "stdout",
     "output_type": "stream",
     "text": [
      "+------------+--------+----------+---------+---------+----------+----------+\n",
      "| Strategy   |   Wins |   Losses |   Draws | Win %   | Loss %   | Draw %   |\n",
      "+============+========+==========+=========+=========+==========+==========+\n",
      "| random     |     20 |       60 |       0 | 16.67%  | 50.00%   | 0.00%    |\n",
      "+------------+--------+----------+---------+---------+----------+----------+\n",
      "| greedy     |     50 |       30 |       0 | 41.67%  | 25.00%   | 0.00%    |\n",
      "+------------+--------+----------+---------+---------+----------+----------+\n",
      "| block      |     50 |       30 |       0 | 41.67%  | 25.00%   | 0.00%    |\n",
      "+------------+--------+----------+---------+---------+----------+----------+\n"
     ]
    }
   ],
   "source": [
    "from tabulate import tabulate\n",
    "\n",
    "# Assume strategies is a list of strategy names\n",
    "# Assume tournament_results is a dictionary holding results for each strategy\n",
    "total_matches = 2 * len(strategies) * (len(strategies) - 1) * rounds\n",
    "\n",
    "# Organize results into a list of lists\n",
    "results = [\n",
    "    [strategy, info['wins'], info['losses'], info['draws'],  # Absolute counts\n",
    "     f\"{(info['wins'] / total_matches) * 100:.2f}%\",  # Win %\n",
    "     f\"{(info['losses'] / total_matches) * 100:.2f}%\",  # Loss %\n",
    "     f\"{(info['draws'] / total_matches) * 100:.2f}%\"]  # Draw %\n",
    "    for strategy, info in tournament_results.items()\n",
    "]\n",
    "\n",
    "# Create a table string\n",
    "table_string = tabulate(results, headers=['Strategy', 'Wins', 'Losses', 'Draws', 'Win %', 'Loss %', 'Draw %'], tablefmt='grid')\n",
    "\n",
    "# Print the table\n",
    "print(table_string)\n",
    "\n",
    "# Optionally save the table to a .txt file\n",
    "# with open('tournament_results.txt', 'w') as file:\n",
    "#     file.write(table_string)\n"
   ]
  }
 ],
 "metadata": {
  "kernelspec": {
   "display_name": "Python 3",
   "language": "python",
   "name": "python3"
  },
  "language_info": {
   "codemirror_mode": {
    "name": "ipython",
    "version": 3
   },
   "file_extension": ".py",
   "mimetype": "text/x-python",
   "name": "python",
   "nbconvert_exporter": "python",
   "pygments_lexer": "ipython3",
   "version": "3.11.2"
  }
 },
 "nbformat": 4,
 "nbformat_minor": 2
}
