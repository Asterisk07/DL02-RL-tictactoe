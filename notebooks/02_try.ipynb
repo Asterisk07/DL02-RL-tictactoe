{
 "cells": [
  {
   "cell_type": "code",
   "execution_count": 1,
   "metadata": {},
   "outputs": [
    {
     "name": "stdout",
     "output_type": "stream",
     "text": [
      "Requirement already satisfied: ultraimport in c:\\users\\pande\\appdata\\local\\programs\\python\\python311\\lib\\site-packages (0.0.7)\n",
      "Note: you may need to restart the kernel to use updated packages.\n"
     ]
    },
    {
     "name": "stderr",
     "output_type": "stream",
     "text": [
      "\n",
      "[notice] A new release of pip is available: 24.0 -> 24.2\n",
      "[notice] To update, run: python.exe -m pip install --upgrade pip\n"
     ]
    }
   ],
   "source": [
    "pip install ultraimport"
   ]
  },
  {
   "cell_type": "markdown",
   "metadata": {},
   "source": [
    "## supress print"
   ]
  },
  {
   "cell_type": "code",
   "execution_count": 2,
   "metadata": {},
   "outputs": [],
   "source": [
    "import builtins\n",
    "\n",
    "# Step 1: Store the original print function\n",
    "original_print = builtins.print\n",
    "\n",
    "def suppress_print():\n",
    "    \"\"\"Temporarily suppress print statements.\"\"\"\n",
    "    builtins.print = lambda *args, **kwargs: None  # Override print with a no-op\n",
    "\n",
    "def restore_print():\n",
    "    \"\"\"Restore the original print function.\"\"\"\n",
    "    builtins.print = original_print  # Restore to the saved original print function\n",
    "\n"
   ]
  },
  {
   "cell_type": "code",
   "execution_count": 3,
   "metadata": {},
   "outputs": [],
   "source": [
    "import ultraimport"
   ]
  },
  {
   "cell_type": "code",
   "execution_count": 4,
   "metadata": {},
   "outputs": [
    {
     "data": {
      "text/plain": [
       "'c:\\\\Users\\\\pande\\\\OneDrive\\\\Documents\\\\code\\\\DL\\\\DL self mini projects\\\\DL02-RL-tictactoe\\\\notebooks'"
      ]
     },
     "execution_count": 4,
     "metadata": {},
     "output_type": "execute_result"
    }
   ],
   "source": [
    "import os\n",
    "os.getcwd()"
   ]
  },
  {
   "cell_type": "code",
   "execution_count": 5,
   "metadata": {},
   "outputs": [
    {
     "data": {
      "text/plain": [
       "{'N': 3,\n",
       " 'board': array([0, 0, 0, 0, 0, 0, 0, 0, 0]),\n",
       " 'check_winner': <function helper.check_winner(board)>,\n",
       " 'find_winning_move': <function helper.find_winning_move(board, available_moves, player_number)>,\n",
       " 'get_available_moves': <function helper.get_available_moves(board)>,\n",
       " 'i': 2,\n",
       " 'initialize_board': <function helper.initialize_board()>,\n",
       " 'is_board_full': <function helper.is_board_full(board)>,\n",
       " 'isvacant': <function helper.isvacant(board, position)>,\n",
       " 'j': 2,\n",
       " 'make_move': <function helper.make_move(board, position, player)>,\n",
       " 'np': <module 'numpy' from 'c:\\\\Users\\\\pande\\\\AppData\\\\Local\\\\Programs\\\\Python\\\\Python311\\\\Lib\\\\site-packages\\\\numpy\\\\__init__.py'>,\n",
       " 'play_game': <function helper.play_game(agent1=None, agent2=None)>,\n",
       " 'print_board': <function helper.print_board(board)>,\n",
       " 'random': <module 'random' from 'c:\\\\Users\\\\pande\\\\AppData\\\\Local\\\\Programs\\\\Python\\\\Python311\\\\Lib\\\\random.py'>,\n",
       " 'random_move': <function helper.random_move(board, available_moves)>,\n",
       " 'reset_board': <function helper.reset_board(board)>,\n",
       " 'ultraimport': <module 'ultraimport.ultraimport' from 'c:\\\\Users\\\\pande\\\\AppData\\\\Local\\\\Programs\\\\Python\\\\Python311\\\\Lib\\\\site-packages\\\\ultraimport\\\\ultraimport.py'>,\n",
       " 'winning_combinations': [[0, 1, 2],\n",
       "  [3, 4, 5],\n",
       "  [6, 7, 8],\n",
       "  [0, 3, 6],\n",
       "  [1, 4, 7],\n",
       "  [2, 5, 8],\n",
       "  [0, 4, 8],\n",
       "  [2, 4, 6]]}"
      ]
     },
     "execution_count": 5,
     "metadata": {},
     "output_type": "execute_result"
    }
   ],
   "source": [
    "ultraimport('../scripts/helper.py','*', add_to_ns=globals())"
   ]
  },
  {
   "cell_type": "code",
   "execution_count": 6,
   "metadata": {},
   "outputs": [
    {
     "data": {
      "text/plain": [
       "array([0, 0, 0, 0, 0, 0, 0, 0, 0])"
      ]
     },
     "execution_count": 6,
     "metadata": {},
     "output_type": "execute_result"
    }
   ],
   "source": [
    "board = initialize_board()\n",
    "board"
   ]
  },
  {
   "cell_type": "code",
   "execution_count": null,
   "metadata": {},
   "outputs": [],
   "source": []
  },
  {
   "cell_type": "markdown",
   "metadata": {},
   "source": [
    "## Move selection"
   ]
  },
  {
   "cell_type": "code",
   "execution_count": 25,
   "metadata": {},
   "outputs": [],
   "source": []
  },
  {
   "cell_type": "code",
   "execution_count": 135,
   "metadata": {},
   "outputs": [],
   "source": [
    "class Agent:\n",
    "    def __init__(self, player_number, strategy = 'random'):\n",
    "        self.player_number = player_number\n",
    "        self.strategy = strategy\n",
    "\n",
    "    def select_move(self, board, available_moves = None):\n",
    "        if available_moves is None:\n",
    "            available_moves = get_available_moves(board)\n",
    "        if self.strategy == 'random':\n",
    "            return random_move(board, available_moves)\n",
    "        elif self.strategy == 'greedy':\n",
    "            return self.greedy_move(board, available_moves, self.player_number)\n",
    "        elif self.strategy == 'block':\n",
    "            return self.greedy_move(board, available_moves, self.player_number)\n",
    "        elif self.strategy == 'center_corner':\n",
    "            return self.center_corner_move(board, available_moves)\n",
    "        elif self.strategy == 'greedy_center':\n",
    "            return self.greedy_center_move(board, available_moves, self.player_number)\n",
    "        else:\n",
    "            raise Exception(f'Invalid strategy {strategy}')\n",
    "        # Add more strategies as needed    \n",
    "    \n",
    "    def block_move(self, board, available_moves, player_number):\n",
    "        #try to block opponent win\n",
    "        other_player = 3 - player_number\n",
    "        move = find_winning_move(board, available_moves, other_player)\n",
    "        if move !=-1:\n",
    "            return move\n",
    "        else:\n",
    "            return random_move(board, available_moves)\n",
    "\n",
    "    def greedy_move(self, board, available_moves, player_number):\n",
    "        # Try to win in single turn\n",
    "        move = find_winning_move(board, available_moves, player_number)\n",
    "        if move !=-1:\n",
    "            return move\n",
    "\n",
    "        return self.block_move(board, available_moves, player_number)\n",
    "\n",
    "    def center_corner_move(self, board, available_moves):\n",
    "        # Flattened board indices for center, corners, and edges\n",
    "        center = [(N**2 - 1) // 2]  # For a 3x3 board, center is index 4 (0-based)\n",
    "        corners = [0, N-1, N**2-N, N**2-1]  # Top-left, top-right, bottom-left, bottom-right\n",
    "        # edges = [i for i in range(N**2) if i not in center + corners]  # All non-corner, non-center positions\n",
    "        \n",
    "        # First, check if the center is available\n",
    "        if board[center[0]] == 0:  # Assuming 0 means empty\n",
    "            return center[0]\n",
    "        \n",
    "        # If center is not available, check for available corners\n",
    "        available_corners = [i for i in corners if board[i] == 0]\n",
    "        if available_corners:\n",
    "            return random_move(board, available_corners)  # Randomly select one if multiple are available\n",
    "        \n",
    "        # # If neither center nor corners are available, move to an edge\n",
    "        # available_edges = [i for i in edges if board[i] == 0]\n",
    "        # if available_edges:\n",
    "        #     return random.choice(available_edges)  # Randomly select one if multiple are available\n",
    "        \n",
    "        # If no moves are available (shouldn't happen if the game is valid), return None\n",
    "        return random_move(board, available_moves)\n",
    "\n",
    "    def greedy_center_move(self, board, available_moves, player_number):\n",
    "        # Try to win in single turn\n",
    "        move = find_winning_move(board, available_moves, player_number)\n",
    "        if move !=-1:\n",
    "            return move\n",
    "        \n",
    "        other_player = 3 - player_number\n",
    "        move = find_winning_move(board, available_moves, other_player)\n",
    "        if move !=-1:\n",
    "            return move\n",
    "\n",
    "        return self.center_corner_move(board, available_moves)\n",
    "\n",
    "    \n",
    "\n",
    "        \n"
   ]
  },
  {
   "cell_type": "code",
   "execution_count": null,
   "metadata": {},
   "outputs": [],
   "source": [
    "import random\n",
    "\n",
    "# Define the board size\n",
    "N = 3  # For a standard Tic-Tac-Toe board, N = 3\n",
    "\n",
    "def select_center_corner_edge_move(board):\n",
    "    # Flattened board indices for center, corners, and edges\n",
    "    center = [(N**2 - 1) // 2]  # For a 3x3 board, center is index 4 (0-based)\n",
    "    corners = [0, N-1, N**2-N, N**2-1]  # Top-left, top-right, bottom-left, bottom-right\n",
    "    edges = [i for i in range(N**2) if i not in center + corners]  # All non-corner, non-center positions\n",
    "    \n",
    "    # First, check if the center is available\n",
    "    if board[center[0]] == 0:  # Assuming 0 means empty\n",
    "        return center[0]\n",
    "    \n",
    "    # If center is not available, check for available corners\n",
    "    available_corners = [i for i in corners if board[i] == 0]\n",
    "    if available_corners:\n",
    "        return random.choice(available_corners)  # Randomly select one if multiple are available\n",
    "    \n",
    "    # If neither center nor corners are available, move to an edge\n",
    "    available_edges = [i for i in edges if board[i] == 0]\n",
    "    if available_edges:\n",
    "        return random.choice(available_edges)  # Randomly select one if multiple are available\n",
    "    \n",
    "    # If no moves are available (shouldn't happen if the game is valid), return None\n",
    "    return None\n",
    "\n",
    "# Example usage\n",
    "# 0 represents an empty position, 1 for player 1, and 2 for player 2\n",
    "board = [1, 0, 0, 2, 0, 2, 0, 1, 1]  # Example current board state\n",
    "move = select_center_corner_edge_move(board)\n",
    "print(f\"Selected move: {move}\")\n"
   ]
  },
  {
   "cell_type": "markdown",
   "metadata": {},
   "source": [
    "## Round robin Tournament"
   ]
  },
  {
   "cell_type": "code",
   "execution_count": 8,
   "metadata": {},
   "outputs": [],
   "source": [
    "from tqdm import tqdm"
   ]
  },
  {
   "cell_type": "code",
   "execution_count": 128,
   "metadata": {},
   "outputs": [],
   "source": [
    "def round_robin_tournament(strategies, rounds = 1, verbose = True, self_games = True):\n",
    "    # Step 1: Create a list to hold results\n",
    "    results = {strategy: {\"wins\": 0, \"losses\": 0, \"draws\": 0} for strategy in strategies}\n",
    "\n",
    "    num_strategies = len(strategies)\n",
    "    win_grid = np.zeros((num_strategies, num_strategies))\n",
    "    strategy_indices = {strategy: idx for idx, strategy in enumerate(strategies)}  # Mapping strategy to grid index\n",
    "\n",
    "    # Step 2: Create agents for each strategy\n",
    "    agents_1 = {strategy: Agent(player_number=1, strategy=strategy) for strategy in strategies}\n",
    "    agents_2 = {strategy: Agent(player_number=2, strategy=strategy) for strategy in strategies}\n",
    "\n",
    "\n",
    "    # Step 3: Play games among agents\n",
    "    total_matches = len(strategies) * (len(strategies) - 1 + int(self_games)) * rounds\n",
    "\n",
    "    k = 1\n",
    "    if verbose:\n",
    "        suppress_print()\n",
    "    with tqdm(total=total_matches, desc='Playing matches') as pbar:\n",
    "        for round in range(rounds):\n",
    "            \n",
    "            for strategy1 in strategies:\n",
    "                print()\n",
    "                for strategy2 in strategies:\n",
    "                    if not(self_games) and strategy1 == strategy2:  # Skip if both strategies are the same\n",
    "                        \n",
    "                        continue\n",
    "                    \n",
    "\n",
    "                    \n",
    "                    agent1 = agents_1[strategy1]\n",
    "                    agent2 = agents_2[strategy2]\n",
    "                    # Step 4: Create two agents for the current match\n",
    "                    \n",
    "                   \n",
    "                    # for match in range(2):\n",
    "                    if True:\n",
    "                        \n",
    "                        # # Temporarily set player numbers for the match\n",
    "                        # agent1.player_number = match\n",
    "                        # agent2.player_number = 3 - match\n",
    "                        random.seed(42)  # Initialize before the match\n",
    "                        # if match == 1:\n",
    "                        #     # swap(strategy1, strategy2)\n",
    "                        #     strategy1, strategy2 =  strategy2, strategy1\n",
    "                        \n",
    "\n",
    "                        suppress_print()\n",
    "                        # Play game and get the result\n",
    "                        winner = play_game(agent1=agent1, agent2=agent2)\n",
    "                        \n",
    "                        \n",
    "                        if verbose:\n",
    "                            restore_print()\n",
    "                        # Step 5: Update results based on the winner\n",
    "                        if winner == 0:  # Draw\n",
    "                            results[strategy1][\"draws\"] += 1\n",
    "                            results[strategy2][\"draws\"] += 1\n",
    "                        elif winner == 1:  # agent1 wins\n",
    "                            results[strategy1][\"wins\"] += 1\n",
    "                            results[strategy2][\"losses\"] += 1\n",
    "                        elif winner == 2:  # agent2 wins\n",
    "                            results[strategy2][\"wins\"] += 1\n",
    "                            results[strategy1][\"losses\"] += 1\n",
    "                        else:\n",
    "                            print(winner ,\"wom\")\n",
    "\n",
    "\n",
    "                        # Update win grid\n",
    "                        idx1 = strategy_indices[strategy1]\n",
    "                        idx2 = strategy_indices[strategy2]\n",
    "\n",
    "                        if winner == 1:\n",
    "                            win_grid[idx1, idx2] += 1  # Increment win count for strategy1 against strategy2\n",
    "                        elif winner == 2:\n",
    "                            win_grid[idx2, idx1] += 1  # Increment win count for strategy2 against strategy1\n",
    "\n",
    "                        pbar.update(1)\n",
    "\n",
    "\n",
    "                        # print(f\"{k} Player 1 : {strategy1}, Player 2 : {strategy2} result : {winner}\")\n",
    "                        print(f\"Match {k} {strategy1} VS {strategy2} : result : {winner}\")\n",
    "                        \n",
    "                        k+=1\n",
    "\n",
    "    # if verbose:\n",
    "    restore_print()\n",
    "\n",
    "\n",
    "    # Step 6: Convert win counts in the grid to percentages\n",
    "    # for i in range(num_strategies):\n",
    "    #     for j in range(num_strategies):\n",
    "    #         if i != j:  # Skip self-matches\n",
    "    #             total_games = rounds  # Number of rounds played between strategy i and strategy j\n",
    "    #             win_grid[i, j] = (win_grid[i, j] / total_games) * 100  # Convert win counts to percentages\n",
    "\n",
    "    # Step 7: Return the results and the win percentage grid\n",
    "    return results, win_grid\n",
    "\n",
    "    # return results"
   ]
  },
  {
   "cell_type": "code",
   "execution_count": 131,
   "metadata": {},
   "outputs": [],
   "source": [
    "def single_match(strategy1, strategy2):\n",
    "    agent1 = Agent(player_number=1, strategy=strategy1)\n",
    "    agent2 = Agent(player_number=2, strategy=strategy2)\n",
    "    winner = play_game(agent1=agent1, agent2=agent2)\n",
    "\n"
   ]
  },
  {
   "cell_type": "code",
   "execution_count": 145,
   "metadata": {},
   "outputs": [
    {
     "name": "stdout",
     "output_type": "stream",
     "text": [
      "\n",
      " | | \n",
      "-----\n",
      " | | \n",
      "-----\n",
      " | | \n",
      "-----\n",
      "Available moves: [0, 1, 2, 3, 4, 5, 6, 7, 8]\n",
      "Bot (X) selects move: 1\n",
      "\n",
      " |X| \n",
      "-----\n",
      " | | \n",
      "-----\n",
      " | | \n",
      "-----\n",
      "Available moves: [0, 2, 3, 4, 5, 6, 7, 8]\n",
      "Bot (O) selects move: 4\n",
      "\n",
      " |X| \n",
      "-----\n",
      " |O| \n",
      "-----\n",
      " | | \n",
      "-----\n",
      "Available moves: [0, 2, 3, 5, 6, 7, 8]\n",
      "Bot (X) selects move: 7\n",
      "\n",
      " |X| \n",
      "-----\n",
      " |O| \n",
      "-----\n",
      " |X| \n",
      "-----\n",
      "Available moves: [0, 2, 3, 5, 6, 8]\n",
      "Bot (O) selects move: 0\n",
      "\n",
      "O|X| \n",
      "-----\n",
      " |O| \n",
      "-----\n",
      " |X| \n",
      "-----\n",
      "Available moves: [2, 3, 5, 6, 8]\n",
      "Bot (X) selects move: 8\n",
      "\n",
      "O|X| \n",
      "-----\n",
      " |O| \n",
      "-----\n",
      " |X|X\n",
      "-----\n",
      "Available moves: [2, 3, 5, 6]\n",
      "Bot (O) selects move: 6\n",
      "\n",
      "O|X| \n",
      "-----\n",
      " |O| \n",
      "-----\n",
      "O|X|X\n",
      "-----\n",
      "Available moves: [2, 3, 5]\n",
      "Bot (X) selects move: 3\n",
      "\n",
      "O|X| \n",
      "-----\n",
      "X|O| \n",
      "-----\n",
      "O|X|X\n",
      "-----\n",
      "Available moves: [2, 5]\n",
      "Bot (O) selects move: 2\n",
      "O|X|O\n",
      "-----\n",
      "X|O| \n",
      "-----\n",
      "O|X|X\n",
      "-----\n",
      "Player 2 wins!\n"
     ]
    }
   ],
   "source": [
    "single_match('random', 'greedy_center')"
   ]
  },
  {
   "cell_type": "code",
   "execution_count": 148,
   "metadata": {},
   "outputs": [
    {
     "name": "stderr",
     "output_type": "stream",
     "text": [
      "Playing matches: 100%|██████████| 20/20 [00:00<?, ?it/s]"
     ]
    },
    {
     "name": "stdout",
     "output_type": "stream",
     "text": [
      "\n",
      "\n",
      "random: Wins: 0, Losses: 7, Draws: 1\n",
      "greedy: Wins: 4, Losses: 3, Draws: 1\n",
      "block: Wins: 4, Losses: 3, Draws: 1\n",
      "center_corner: Wins: 4, Losses: 4, Draws: 0\n",
      "greedy_center: Wins: 5, Losses: 0, Draws: 3\n"
     ]
    },
    {
     "name": "stderr",
     "output_type": "stream",
     "text": [
      "\n"
     ]
    }
   ],
   "source": [
    "\n",
    "\n",
    "# Example usage\n",
    "# strategies = ['random', 'greedy', 'block', 'center_corner']\n",
    "strategies = ['random', 'greedy', 'block', 'center_corner' ,'greedy_center']\n",
    "# strategies = ['random', 'greedy', 'block', 'center', 'corner', 'edge', 'alpha-beta']\n",
    "rounds = 1\n",
    "VERBOSE = False\n",
    "SELF_GAMES = False\n",
    "tournament_results, win_grid = round_robin_tournament(strategies, rounds, verbose= VERBOSE, self_games = SELF_GAMES)\n",
    "\n",
    "# Display results\n",
    "print()\n",
    "\n",
    "for strategy, result in tournament_results.items():\n",
    "    print(f\"{strategy}: Wins: {result['wins']}, Losses: {result['losses']}, Draws: {result['draws']}\")\n",
    "    \n"
   ]
  },
  {
   "cell_type": "code",
   "execution_count": null,
   "metadata": {},
   "outputs": [],
   "source": []
  },
  {
   "cell_type": "markdown",
   "metadata": {},
   "source": [
    "## Display results"
   ]
  },
  {
   "cell_type": "code",
   "execution_count": 123,
   "metadata": {},
   "outputs": [
    {
     "data": {
      "text/plain": [
       "{'random': {'wins': 0, 'losses': 6, 'draws': 2},\n",
       " 'greedy': {'wins': 5, 'losses': 3, 'draws': 0},\n",
       " 'block': {'wins': 5, 'losses': 3, 'draws': 0},\n",
       " 'center_corner': {'wins': 5, 'losses': 3, 'draws': 0}}"
      ]
     },
     "execution_count": 123,
     "metadata": {},
     "output_type": "execute_result"
    }
   ],
   "source": [
    "tournament_results"
   ]
  },
  {
   "cell_type": "code",
   "execution_count": 124,
   "metadata": {},
   "outputs": [
    {
     "data": {
      "text/plain": [
       "array([[0., 0., 0., 0.],\n",
       "       [2., 1., 1., 1.],\n",
       "       [2., 1., 1., 1.],\n",
       "       [2., 1., 1., 1.]])"
      ]
     },
     "execution_count": 124,
     "metadata": {},
     "output_type": "execute_result"
    }
   ],
   "source": [
    "win_grid"
   ]
  },
  {
   "cell_type": "code",
   "execution_count": 142,
   "metadata": {},
   "outputs": [
    {
     "name": "stdout",
     "output_type": "stream",
     "text": [
      "+---------------+--------+----------+---------+---------+----------+----------+\n",
      "| Strategy      |   Wins |   Losses |   Draws | Win %   | Loss %   | Draw %   |\n",
      "+===============+========+==========+=========+=========+==========+==========+\n",
      "| random        |      0 |        7 |       1 | 0.00%   | 87.50%   | 12.50%   |\n",
      "+---------------+--------+----------+---------+---------+----------+----------+\n",
      "| greedy        |      4 |        3 |       1 | 50.00%  | 37.50%   | 12.50%   |\n",
      "+---------------+--------+----------+---------+---------+----------+----------+\n",
      "| block         |      4 |        3 |       1 | 50.00%  | 37.50%   | 12.50%   |\n",
      "+---------------+--------+----------+---------+---------+----------+----------+\n",
      "| center_corner |      4 |        4 |       0 | 50.00%  | 50.00%   | 0.00%    |\n",
      "+---------------+--------+----------+---------+---------+----------+----------+\n",
      "| greedy_center |      5 |        0 |       3 | 62.50%  | 0.00%    | 37.50%   |\n",
      "+---------------+--------+----------+---------+---------+----------+----------+\n"
     ]
    }
   ],
   "source": [
    "from tabulate import tabulate\n",
    "\n",
    "# Assume strategies is a list of strategy names\n",
    "# Assume tournament_results is a dictionary holding results for each strategy\n",
    "total_matches = 2 * len(strategies) * (len(strategies) - 1) * rounds\n",
    "matches_per_strat = total_matches/len(strategies)\n",
    "# Organize results into a list of lists\n",
    "results = [\n",
    "    [strategy, info['wins'], info['losses'], info['draws'],  # Absolute counts\n",
    "     f\"{(info['wins'] / matches_per_strat) * 100:.2f}%\",  # Win %\n",
    "     f\"{(info['losses'] / matches_per_strat) * 100:.2f}%\",  # Loss %\n",
    "     f\"{(info['draws'] / matches_per_strat) * 100:.2f}%\"]  # Draw %\n",
    "    for strategy, info in tournament_results.items()\n",
    "]\n",
    "\n",
    "# Create a table string\n",
    "table_string = tabulate(results, headers=['Strategy', 'Wins', 'Losses', 'Draws', 'Win %', 'Loss %', 'Draw %'], tablefmt='grid')\n",
    "\n",
    "# Print the table\n",
    "print(table_string)\n",
    "\n",
    "# Optionally save the table to a .txt file\n",
    "# with open('tournament_results.txt', 'w') as file:\n",
    "#     file.write(table_string)\n"
   ]
  },
  {
   "cell_type": "code",
   "execution_count": 143,
   "metadata": {},
   "outputs": [
    {
     "name": "stdout",
     "output_type": "stream",
     "text": [
      "+---------------+----------+----------+---------+-----------------+-----------------+\n",
      "| Strategy      | random   | greedy   | block   | center_corner   | greedy_center   |\n",
      "+===============+==========+==========+=========+=================+=================+\n",
      "| random        | 0.00%    | 0.00%    | 0.00%   | 0.00%           | 0.00%           |\n",
      "+---------------+----------+----------+---------+-----------------+-----------------+\n",
      "| greedy        | 100.00%  | 0.00%    | 50.00%  | 50.00%          | 0.00%           |\n",
      "+---------------+----------+----------+---------+-----------------+-----------------+\n",
      "| block         | 100.00%  | 50.00%   | 0.00%   | 50.00%          | 0.00%           |\n",
      "+---------------+----------+----------+---------+-----------------+-----------------+\n",
      "| center_corner | 100.00%  | 50.00%   | 50.00%  | 0.00%           | 0.00%           |\n",
      "+---------------+----------+----------+---------+-----------------+-----------------+\n",
      "| greedy_center | 50.00%   | 50.00%   | 50.00%  | 100.00%         | 0.00%           |\n",
      "+---------------+----------+----------+---------+-----------------+-----------------+\n"
     ]
    }
   ],
   "source": [
    "# Assume win_grid is the MxM numpy array holding win percentages between strategies\n",
    "# win_grid = np.array([[0, 33.33, 66.67], [66.67, 0, 33.33], [33.33, 66.67, 0]])  # Example data\n",
    "\n",
    "win_grid = win_grid\n",
    "# Create a list of lists with strategies as rows and columns, including the win percentages\n",
    "grid_results = [\n",
    "    ([strategies[i]] + [f\"{win_grid[i, j] * 100 / 2:.2f}%\" for j in range(len(strategies))])\n",
    "    for i in range(len(strategies))\n",
    "]\n",
    "\n",
    "# Add the strategy names as headers (the first row/column)\n",
    "headers = [\"Strategy\"] + strategies\n",
    "\n",
    "# Create the table string using tabulate\n",
    "table_string = tabulate(grid_results, headers=headers, tablefmt='grid')\n",
    "\n",
    "# Print the table\n",
    "print(table_string)"
   ]
  },
  {
   "cell_type": "code",
   "execution_count": 117,
   "metadata": {},
   "outputs": [
    {
     "data": {
      "text/plain": [
       "[['random', '0.00%', '0.00%', '0.00%'],\n",
       " ['greedy', '100.00%', '50.00%', '50.00%'],\n",
       " ['block', '100.00%', '50.00%', '50.00%']]"
      ]
     },
     "execution_count": 117,
     "metadata": {},
     "output_type": "execute_result"
    }
   ],
   "source": [
    "grid_results"
   ]
  }
 ],
 "metadata": {
  "kernelspec": {
   "display_name": "Python 3",
   "language": "python",
   "name": "python3"
  },
  "language_info": {
   "codemirror_mode": {
    "name": "ipython",
    "version": 3
   },
   "file_extension": ".py",
   "mimetype": "text/x-python",
   "name": "python",
   "nbconvert_exporter": "python",
   "pygments_lexer": "ipython3",
   "version": "3.11.2"
  }
 },
 "nbformat": 4,
 "nbformat_minor": 2
}
