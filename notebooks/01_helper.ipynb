{
 "cells": [
  {
   "cell_type": "code",
   "execution_count": 1,
   "metadata": {},
   "outputs": [],
   "source": [
    "import numpy as np"
   ]
  },
  {
   "cell_type": "code",
   "execution_count": 2,
   "metadata": {},
   "outputs": [],
   "source": [
    "# Hyperparameters\n",
    "N = 3  # Size of the Tic-Tac-Toe board"
   ]
  },
  {
   "cell_type": "code",
   "execution_count": 3,
   "metadata": {},
   "outputs": [
    {
     "data": {
      "text/plain": [
       "[[0, 1, 2],\n",
       " [3, 4, 5],\n",
       " [6, 7, 8],\n",
       " [0, 3, 6],\n",
       " [1, 4, 7],\n",
       " [2, 5, 8],\n",
       " [0, 4, 8],\n",
       " [2, 4, 6]]"
      ]
     },
     "execution_count": 3,
     "metadata": {},
     "output_type": "execute_result"
    }
   ],
   "source": [
    "#calculated constants\n",
    "winning_combinations = []\n",
    "\n",
    "# Horizontal combinations\n",
    "for i in range(N):\n",
    "    winning_combinations.append([i * N + j for j in range(N)])  # Row i\n",
    "\n",
    "# Vertical combinations\n",
    "for j in range(N):\n",
    "    winning_combinations.append([i * N + j for i in range(N)])  # Column j\n",
    "\n",
    "# Diagonal combinations\n",
    "winning_combinations.append([i * (N + 1) for i in range(N)])  # Main diagonal\n",
    "winning_combinations.append([i * (N - 1) for i in range(1, N + 1)])  # Anti-diagonal\n",
    "\n",
    "winning_combinations"
   ]
  },
  {
   "cell_type": "code",
   "execution_count": 4,
   "metadata": {},
   "outputs": [],
   "source": [
    "def initialize_board():\n",
    "    return np.zeros(N*N, dtype=int) "
   ]
  },
  {
   "cell_type": "code",
   "execution_count": 5,
   "metadata": {},
   "outputs": [
    {
     "data": {
      "text/plain": [
       "array([0, 0, 0, 0, 0, 0, 0, 0, 0])"
      ]
     },
     "execution_count": 5,
     "metadata": {},
     "output_type": "execute_result"
    }
   ],
   "source": [
    "board = initialize_board()\n",
    "board"
   ]
  },
  {
   "cell_type": "code",
   "execution_count": 6,
   "metadata": {},
   "outputs": [],
   "source": [
    "def isvacant(board,position):\n",
    "    return board[position] == 0"
   ]
  },
  {
   "cell_type": "code",
   "execution_count": 7,
   "metadata": {},
   "outputs": [
    {
     "data": {
      "text/plain": [
       "array([1, 0, 0, 0, 0, 0, 0, 0, 0])"
      ]
     },
     "execution_count": 7,
     "metadata": {},
     "output_type": "execute_result"
    }
   ],
   "source": [
    "def make_move(board, position, player):\n",
    "    if position < 0 or position >= len(board):\n",
    "        raise Exception(f\"Invalid position {position}\")\n",
    "    \n",
    "    if not(isvacant(board,position)):\n",
    "        raise Exception(f\"Not vacant position {position}\")\n",
    "\n",
    "    if player == 1:\n",
    "        board[position] = 1\n",
    "    elif player == 2:\n",
    "        board[position] = 2\n",
    "    else:\n",
    "        raise Exception(f\"Invalid player {player}\")\n",
    "    return board\n",
    "\n",
    "make_move(board,0,1)"
   ]
  },
  {
   "cell_type": "code",
   "execution_count": 8,
   "metadata": {},
   "outputs": [
    {
     "data": {
      "text/plain": [
       "2"
      ]
     },
     "execution_count": 8,
     "metadata": {},
     "output_type": "execute_result"
    }
   ],
   "source": [
    "def check_winner(board):\n",
    "    for combination in winning_combinations:\n",
    "        # if board[combination[0]] == board[combination[1]] == board[combination[2]] != 0:\n",
    "\n",
    "        if all(board[pos] == board[combination[0]] != 0 for pos in combination):\n",
    "            return board[combination[0]]  # Return the winning player (1 or 2)\n",
    "\n",
    "            # Player 1 (x) wins\n",
    "            # Player 2 (o) wins\n",
    "\n",
    "    if is_board_full(board):\n",
    "        return 0  # Draw\n",
    "    \n",
    "    return -1 #game running\n",
    "\n",
    "board = [2, 2, 2, 1, 0, 2, 0, 2, 0, 2, 0, 0, 0, 0, 0, 0]  \n",
    "check_winner(board)"
   ]
  },
  {
   "cell_type": "code",
   "execution_count": 9,
   "metadata": {},
   "outputs": [],
   "source": [
    "def is_board_full(board):\n",
    "    return all(cell != 0 for cell in board)"
   ]
  },
  {
   "cell_type": "code",
   "execution_count": 10,
   "metadata": {},
   "outputs": [],
   "source": [
    "def reset_board(board):\n",
    "    return initialize_board()"
   ]
  },
  {
   "cell_type": "code",
   "execution_count": 28,
   "metadata": {},
   "outputs": [],
   "source": [
    "def get_available_moves(board):\n",
    "    return [i for i in range(N*N) if board[i] == 0]\n"
   ]
  },
  {
   "cell_type": "code",
   "execution_count": 18,
   "metadata": {},
   "outputs": [
    {
     "name": "stdout",
     "output_type": "stream",
     "text": [
      "O|O|O\n",
      "-----\n",
      "X| |O\n",
      "-----\n",
      " |O| \n",
      "-----\n"
     ]
    }
   ],
   "source": [
    "def print_board(board):\n",
    "    mapping = {0: ' ', 1: 'X', 2: 'O'}  # Mapping for display\n",
    "    for i in range(N):\n",
    "        # Extract the row from the flattened array\n",
    "        row = board[i * N:(i + 1) * N]\n",
    "        print('|'.join(mapping[cell] for cell in row))\n",
    "        print('-' * (N * 2 - 1))  # Print a separator line\n",
    "print_board(board)"
   ]
  },
  {
   "cell_type": "code",
   "execution_count": 32,
   "metadata": {},
   "outputs": [],
   "source": [
    "def play_game(agent1=None,agent2=None):\n",
    "    board = initialize_board() # Initialize the board as a flattened array\n",
    "    current_player = 1  # Player 1 starts\n",
    "    game_over = False\n",
    "\n",
    "    while not game_over:\n",
    "        print()\n",
    "        print_board(board)  # Display the current board\n",
    "        \n",
    "        # Get available moves\n",
    "        available_moves = get_available_moves(board)\n",
    "        print(f\"Available moves: {available_moves}\")\n",
    "\n",
    "        if current_player == 1:\n",
    "            agent = agent1\n",
    "            player_symbol = 'X'\n",
    "        else:\n",
    "            agent = agent2\n",
    "            player_symbol = 'O'\n",
    "\n",
    "        if agent:  # If there is an agent, it selects a move\n",
    "            move = agent.select_move(board)  # Bot selects move\n",
    "            print(f\"Bot ({player_symbol}) selects move: {move}\")\n",
    "        else:  # If no agent, ask for human input\n",
    "            move = int(input(f\"Player {current_player} ({player_symbol}), enter your move (0-{N**2-1}): \"))  # Adjust for N size\n",
    "\n",
    "\n",
    "        if move in available_moves:\n",
    "            make_move(board, move, current_player)  # Make the move\n",
    "            winner = check_winner(board)  # Check for a winner\n",
    "            \n",
    "            if winner != -1:  # If the game is not still running\n",
    "                game_over = True\n",
    "                print_board(board)  # Display the final board\n",
    "                if winner == 0:\n",
    "                    print(\"It's a draw!\")\n",
    "                else:\n",
    "                    print(f\"Player {winner} wins!\")\n",
    "        else:\n",
    "            print(\"Invalid move, please try again.\")\n",
    "\n",
    "        # Switch players\n",
    "        # current_player = 2 if current_player == 1 else 1\n",
    "        current_player = 3 - current_player\n"
   ]
  },
  {
   "cell_type": "code",
   "execution_count": 33,
   "metadata": {},
   "outputs": [
    {
     "name": "stdout",
     "output_type": "stream",
     "text": [
      "\n",
      " | | \n",
      "-----\n",
      " | | \n",
      "-----\n",
      " | | \n",
      "-----\n",
      "Available moves: [0, 1, 2, 3, 4, 5, 6, 7, 8]\n",
      "\n",
      " |X| \n",
      "-----\n",
      " | | \n",
      "-----\n",
      " | | \n",
      "-----\n",
      "Available moves: [0, 2, 3, 4, 5, 6, 7, 8]\n",
      "\n",
      " |X| \n",
      "-----\n",
      " |O| \n",
      "-----\n",
      " | | \n",
      "-----\n",
      "Available moves: [0, 2, 3, 5, 6, 7, 8]\n",
      "\n",
      " |X| \n",
      "-----\n",
      " |O| \n",
      "-----\n",
      "X| | \n",
      "-----\n",
      "Available moves: [0, 2, 3, 5, 7, 8]\n",
      "\n",
      "O|X| \n",
      "-----\n",
      " |O| \n",
      "-----\n",
      "X| | \n",
      "-----\n",
      "Available moves: [2, 3, 5, 7, 8]\n",
      "\n",
      "O|X|X\n",
      "-----\n",
      " |O| \n",
      "-----\n",
      "X| | \n",
      "-----\n",
      "Available moves: [3, 5, 7, 8]\n",
      "O|X|X\n",
      "-----\n",
      " |O| \n",
      "-----\n",
      "X| |O\n",
      "-----\n",
      "Player 2 wins!\n"
     ]
    }
   ],
   "source": [
    "play_game()"
   ]
  },
  {
   "cell_type": "code",
   "execution_count": 27,
   "metadata": {},
   "outputs": [
    {
     "data": {
      "text/plain": [
       "[0, 1, 2]"
      ]
     },
     "execution_count": 27,
     "metadata": {},
     "output_type": "execute_result"
    }
   ],
   "source": []
  },
  {
   "cell_type": "code",
   "execution_count": 12,
   "metadata": {},
   "outputs": [
    {
     "name": "stdout",
     "output_type": "stream",
     "text": [
      " | | \n",
      "-----\n",
      " | | \n",
      "-----\n",
      " | | \n",
      "-----\n"
     ]
    }
   ],
   "source": []
  }
 ],
 "metadata": {
  "kernelspec": {
   "display_name": "Python 3",
   "language": "python",
   "name": "python3"
  },
  "language_info": {
   "codemirror_mode": {
    "name": "ipython",
    "version": 3
   },
   "file_extension": ".py",
   "mimetype": "text/x-python",
   "name": "python",
   "nbconvert_exporter": "python",
   "pygments_lexer": "ipython3",
   "version": "3.11.2"
  }
 },
 "nbformat": 4,
 "nbformat_minor": 2
}
